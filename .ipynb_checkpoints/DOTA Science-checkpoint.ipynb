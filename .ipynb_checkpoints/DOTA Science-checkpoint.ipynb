{
 "cells": [
  {
   "cell_type": "code",
   "execution_count": 1,
   "metadata": {
    "ExecuteTime": {
     "end_time": "2020-08-04T08:35:13.850612Z",
     "start_time": "2020-08-04T08:35:13.841976Z"
    }
   },
   "outputs": [
    {
     "data": {
      "text/html": [
       "<script>\n",
       "code_show=true;\n",
       "function code_toggle() {\n",
       " if (code_show){\n",
       " $('div.input').hide();\n",
       " } else {\n",
       " $('div.input').show();\n",
       " }\n",
       " code_show = !code_show\n",
       "}\n",
       "$( document ).ready(code_toggle);\n",
       "</script>\n",
       "<form action=\"javascript:code_toggle()\"><input type=\"submit\" value=\"Click here to toggle on/off the raw code.\"></form>"
      ],
      "text/plain": [
       "<IPython.core.display.HTML object>"
      ]
     },
     "execution_count": 1,
     "metadata": {},
     "output_type": "execute_result"
    }
   ],
   "source": [
    "from IPython.display import HTML\n",
    "HTML('''<script>\n",
    "code_show=true;\n",
    "function code_toggle() {\n",
    " if (code_show){\n",
    " $('div.input').hide();\n",
    " } else {\n",
    " $('div.input').show();\n",
    " }\n",
    " code_show = !code_show\n",
    "}\n",
    "$( document ).ready(code_toggle);\n",
    "</script>\n",
    "<form action=\"javascript:code_toggle()\"><input type=\"submit\" value=\"Click here to toggle on/off the raw code.\"></form>''')"
   ]
  },
  {
   "cell_type": "markdown",
   "metadata": {},
   "source": [
    "# Dota 2:  Meta Evolution as Captured by End-of-game Player Stats\n",
    "\n",
    "## Executive Summary\n",
    "\n",
    "Dota 2 is a multiplayer online battle arena (MOBA) game that has gained top tier popularity in E-sports. Ushered in by the success of its predecessor, Defense of the Ancients, it has grown to be a force in the gaming industry exhibited by a host of following and a historically high prize pool in the game's flagship annual tournament, `The International` (TI) . \n",
    "\n",
    "Perhaps the most appealing aspect of Dota 2 is teamwork. From the drafting stage to late-game clashes, teamwork surfaced as a unifying factor of all our investigations. Specifically, we have observed that intelligence-type support heroes held count majority on hero pick participation across all TIs. We also observed that the dependence of team strategies on players taking different roles or specializations in-game results in the distribution of end-of-game stats that resemble Poisson/rare--a consequence of the majority of support players giving way to a snowballing of one or two core heroes in a lineup.\n",
    "\n",
    "Also, we built a predictive model that can predict match outcomes at ~94% accuracy. In prediction using in-game hero items, map vision and mobility items surfaced as the most important predictors. Aegis is also among the top predictor items which we attributed to success in team fights and, consequently, secured pushing. Intuitively, we observed that Kills, Deaths, and Assists are the most important stats to predict match outcomes at high accuracy.\n",
    "\n",
    "While `Valve` certainly made efforts to refine and improve the game continuously, there is a limit to how much they can change. That limit is Dota 2's identity--as exhibited in the overall package of mechanics, graphics, and what others refer to as  \"high barrier of entry.\"<sup><a href=\"https://www.joindota.com/en/news/78006-opinion-its-time-for-dota-2-to-lower-the-barrier-to-entry\">[1]</a></sup> This is supported by the statistically insignificant differences in end-of-game stats from TI4 to TI8 as determine by Null Hypothesis Significant Testing. Like most E-sports games, `Valve` faces an everyday challenge of keeping Dota 2 relevant but authentic to what it was always known for, a big-brain team-strategy e-sport. Only time will tell what the outcome is to Dota 2's <i>a defense from being ancient</i> in the history of MOBA.\n",
    "\n",
    "\n",
    "## I. Introduction\n",
    "\n",
    "The E-Sports industry has changed significantly since the early age of the internet, changed marked by staggering growth in the last decade. In fact, the number of games released<sup><a href=\"https://www.statista.com/statistics/552623/number-games-released-steam/\">[2]</a></sup> in Steam alone in 2018 and 2019 is twice as much as the combined games released a decade ago. One game that has reached a massive global audience is **Dota 2**.\n",
    "\n",
    "Dota 2 has improved significantly since the release of its predecessor, **Defense of the Ancients (DOTA)**, in 2003. DOTA was initially a `mod` for the video game **Warcraft III: Reign of Chaos** and **The Frozen Throne**. It is a multiplayer online battle arena game wherein two opposing teams fight by defending respective central bases called `Ancients` and by destroying the opponent's base. Each team is composed of five (5) players who control individual characters called `heroes`. Throughout the years, DOTA has been a favorite in the MOBA gaming segment.\n",
    "\n",
    "DOTA's growing popularity caught the attention of `Valve`, which led to a collaboration with DOTA's original creators, who eventually gave birth to Dota 2. Valve officially released Dota 2 in July 2013 as the first standalone installment of Defense of the Ancients.\n",
    "\n",
    "Dota 2 kept the same gameplay mechanics as DOTA while enhancing outdated graphics and visual effects. These graphics, along with the game mechanics, are continuously updated through `patches`. The patches add new elements, change existing bugs, and generally keep the game \"fresh.\" These patches allowed for flexibility in keeping the game relevant despite increasing competition in both computer and mobile MOBA games. What sets Dota 2 apart from its competitors, however, is `Valve`'s annual hosting of the prestigious yearly `The International` (TI).\n",
    "\n",
    "The International is an annual E-Sports world championship tournament where the top professional teams who have passed the qualifier round go head to head against each other in claiming the `Aegis`, TI's championship trophy. The tournament is one of the largest in the E-Sports industry, with the highest recorded prize pool for a single event valued at $34 Million (2019)."
   ]
  },
  {
   "cell_type": "markdown",
   "metadata": {},
   "source": [
    "## II. The Objectives\n",
    "\n",
    "Dota 2 has undergone many game updates since the first The International (TI1). Currently, it is now in its 7.27c patch. These updates came mostly as responses to game bugs, game imbalance, and the more compelling objective of Valve to keep Dota 2 relevant amidst increasing competition in the Multiplayer Online Battle Arena (MOBA) category.\n",
    "\n",
    "In the gaming community, updates imply changes in the meta--how the objectives in a game are achieved. In this report, we investigated how the Dota 2 meta evolved through the years using end-of-game data per match played in a TI. We focused our investigation specifically on The International 4 to 8 (TI4 to TI8) due to the availability of data in Steam's API.<sup><a href=\"https://steamcommunity.com/dev\">[3]</a></sup>\n",
    "\n",
    "The following questions direct our exploration:\n",
    "\t\n",
    "1. How has the pick-ban strategy of professional teams evolved throughout the TIs observed?\n",
    "2. What are the top predictors of match outcomes?\n",
    "3. How has TI games meta evolved with the continuous patch updates from `Valve` as far as end-of-game statistics is concerned?"
   ]
  },
  {
   "cell_type": "code",
   "execution_count": 2,
   "metadata": {
    "ExecuteTime": {
     "end_time": "2020-08-04T06:33:11.259870Z",
     "start_time": "2020-08-04T06:33:11.252878Z"
    }
   },
   "outputs": [
    {
     "data": {
      "text/html": [
       "\n",
       "<style>\n",
       ".output_png {\n",
       "    display: table-cell;\n",
       "    text-align: center;\n",
       "    vertical-align: middle;\n",
       "}\n",
       "</style>\n"
      ],
      "text/plain": [
       "<IPython.core.display.HTML object>"
      ]
     },
     "execution_count": 2,
     "metadata": {},
     "output_type": "execute_result"
    }
   ],
   "source": [
    "from IPython.display import Image \n",
    "# This is only for presentation\n",
    "from IPython.core.display import HTML\n",
    "HTML(\"\"\"\n",
    "<style>\n",
    ".output_png {\n",
    "    display: table-cell;\n",
    "    text-align: center;\n",
    "    vertical-align: middle;\n",
    "}\n",
    "</style>\n",
    "\"\"\")"
   ]
  },
  {
   "cell_type": "markdown",
   "metadata": {},
   "source": [
    "## III. Data Collection, Description, and Processing\n",
    "\n",
    "To accomplish the above objectives, our team scraped data from Steam using its API and performed the necessary exploratory data analayses. Our scraping resulted to two two main sets of data: (1) data for analysis, and (2) data for visualization. The collected data were saved in sqlite3 with `dota2.sqlite3` as the **main database**. The following tables are contained in the said database:\n",
    "\n",
    "1. leagues and tournaments\n",
    "2. heroes\n",
    "3. items\n",
    "4. matches details including picks, and bans\n",
    "\n",
    "Presented below is our workflow diagram, overviews of the data displayed as `pandas` dataframes, and the necessary processing of \n",
    "of data prior to analyses.\n",
    "\n",
    "*Steam API endpoints are shown in the Appendix.*"
   ]
  },
  {
   "cell_type": "code",
   "execution_count": 3,
   "metadata": {
    "ExecuteTime": {
     "end_time": "2020-08-04T06:33:12.782840Z",
     "start_time": "2020-08-04T06:33:12.771807Z"
    }
   },
   "outputs": [
    {
     "data": {
      "image/png": "[encoded data removed]",
      "text/plain": [
       "<IPython.core.display.Image object>"
      ]
     },
     "execution_count": 3,
     "metadata": {},
     "output_type": "execute_result"
    }
   ],
   "source": [
    "Image('workflow.png')"
   ]
  },
  {
   "cell_type": "code",
   "execution_count": 4,
   "metadata": {
    "ExecuteTime": {
     "end_time": "2020-08-04T06:33:13.226944Z",
     "start_time": "2020-08-04T06:33:13.211963Z"
    }
   },
   "outputs": [],
   "source": [
    "import pandas as pd\n",
    "import numpy as np\n",
    "import matplotlib.pyplot as plt\n",
    "import seaborn as sns\n",
    "import sqlite3\n",
    "import requests\n",
    "from tqdm import tqdm"
   ]
  },
  {
   "cell_type": "code",
   "execution_count": 5,
   "metadata": {
    "ExecuteTime": {
     "end_time": "2020-08-04T06:33:13.928029Z",
     "start_time": "2020-08-04T06:33:13.923189Z"
    }
   },
   "outputs": [],
   "source": [
    "db_path = ''\n",
    "heroes_db = 'dota2_v1.db'\n",
    "dota2db = 'dota2.sqlite3'"
   ]
  },
  {
   "cell_type": "code",
   "execution_count": 6,
   "metadata": {
    "ExecuteTime": {
     "end_time": "2020-08-04T06:33:14.117541Z",
     "start_time": "2020-08-04T06:33:14.094309Z"
    }
   },
   "outputs": [],
   "source": [
    "hero_conn = sqlite3.connect(db_path + heroes_db)\n",
    "hero_conn.execute('SELECT * FROM dota_heroes')\n",
    "df_heroes = pd.read_sql(\"\"\"SELECT * FROM dota_heroes\"\"\", hero_conn)"
   ]
  },
  {
   "cell_type": "code",
   "execution_count": 7,
   "metadata": {
    "ExecuteTime": {
     "end_time": "2020-08-04T06:33:14.354104Z",
     "start_time": "2020-08-04T06:33:14.338052Z"
    }
   },
   "outputs": [],
   "source": [
    "# use to match the hero names from the viz data to Steam API data\n",
    "hero_names = {\n",
    "    'nevermore': 'Shadow Fiend',\n",
    "    'vengefulspirit': 'Vengeful Spirit',\n",
    "    'windrunner': 'Windranger',\n",
    "    'zuus': 'Zeus',\n",
    "    'nercolyte': 'Necrophos',\n",
    "    'rattletrap': 'Clockwerk',\n",
    "    'queenofpain': 'Queen of Pain',\n",
    "    'skeleton king': 'Wraith King',\n",
    "    'wisp': 'Io',\n",
    "    'life stealer': 'Lifestealer',\n",
    "    'doom bringer': 'Doom',\n",
    "    'obsidian destroyer': 'Outworld Devourer',\n",
    "    'treant': 'Treant Protector',\n",
    "    'centaur': 'Centaur Warrunner',\n",
    "    'magnataur': 'Magnus',\n",
    "    'shredder': 'Timbersaw',\n",
    "    'abyssal underlord': 'Underlord',\n",
    "    'furion': \"Nature's Prophet\"\n",
    "}"
   ]
  },
  {
   "cell_type": "markdown",
   "metadata": {},
   "source": [
    "#### Tables contained in the `dota2.sqlite3` database"
   ]
  },
  {
   "cell_type": "code",
   "execution_count": 8,
   "metadata": {
    "ExecuteTime": {
     "end_time": "2020-08-04T06:33:15.985433Z",
     "start_time": "2020-08-04T06:33:15.967216Z"
    }
   },
   "outputs": [
    {
     "data": {
      "text/plain": [
       "[('heroes',),\n",
       " ('items',),\n",
       " ('leagues',),\n",
       " ('matches',),\n",
       " ('match_players',),\n",
       " ('picks_bans',),\n",
       " ('match_details',)]"
      ]
     },
     "execution_count": 8,
     "metadata": {},
     "output_type": "execute_result"
    }
   ],
   "source": [
    "conn = sqlite3.connect(db_path + dota2db)\n",
    "conn.execute(\"SELECT name FROM sqlite_master WHERE type='table';\").fetchall()"
   ]
  },
  {
   "cell_type": "code",
   "execution_count": 9,
   "metadata": {
    "ExecuteTime": {
     "end_time": "2020-08-04T06:33:16.272651Z",
     "start_time": "2020-08-04T06:33:16.250439Z"
    }
   },
   "outputs": [
    {
     "data": {
      "text/html": [
       "<div>\n",
       "<style scoped>\n",
       "    .dataframe tbody tr th:only-of-type {\n",
       "        vertical-align: middle;\n",
       "    }\n",
       "\n",
       "    .dataframe tbody tr th {\n",
       "        vertical-align: top;\n",
       "    }\n",
       "\n",
       "    .dataframe thead th {\n",
       "        text-align: right;\n",
       "    }\n",
       "</style>\n",
       "<table border=\"1\" class=\"dataframe\">\n",
       "  <thead>\n",
       "    <tr style=\"text-align: right;\">\n",
       "      <th></th>\n",
       "      <th>name</th>\n",
       "      <th>league_id</th>\n",
       "      <th>description</th>\n",
       "      <th>tournament_url</th>\n",
       "      <th>itemdef</th>\n",
       "    </tr>\n",
       "  </thead>\n",
       "  <tbody>\n",
       "    <tr>\n",
       "      <th>0</th>\n",
       "      <td>#DOTA_Item_The_International_2012</td>\n",
       "      <td>65001</td>\n",
       "      <td>#DOTA_Item_Desc_League_TheInternational</td>\n",
       "      <td>http://www.dota2.com/tournaments/international...</td>\n",
       "      <td>15072</td>\n",
       "    </tr>\n",
       "    <tr>\n",
       "      <th>1</th>\n",
       "      <td>#DOTA_Item_The_International_East_Qualifiers</td>\n",
       "      <td>65004</td>\n",
       "      <td>#DOTA_Item_Desc_The_International_East_Qualifiers</td>\n",
       "      <td>http://www.dota2.com/tournaments/international...</td>\n",
       "      <td>15157</td>\n",
       "    </tr>\n",
       "    <tr>\n",
       "      <th>2</th>\n",
       "      <td>#DOTA_Item_The_International_West_Qualifiers</td>\n",
       "      <td>65005</td>\n",
       "      <td>#DOTA_Item_Desc_Copy_of_The_International_East...</td>\n",
       "      <td>http://www.dota2.com/tournaments/international...</td>\n",
       "      <td>15158</td>\n",
       "    </tr>\n",
       "    <tr>\n",
       "      <th>3</th>\n",
       "      <td>#DOTA_Item_The_International_TP</td>\n",
       "      <td>65006</td>\n",
       "      <td>#DOTA_Item_Desc_The_International_TP</td>\n",
       "      <td>http://www.dota2.com/international/announcement/</td>\n",
       "      <td>15406</td>\n",
       "    </tr>\n",
       "    <tr>\n",
       "      <th>4</th>\n",
       "      <td>#DOTA_Item_The_International_2014</td>\n",
       "      <td>600</td>\n",
       "      <td>#DOTA_Item_Desc_Copy_of_The_International</td>\n",
       "      <td>http://www.dota2.com/international/overview/</td>\n",
       "      <td>15768</td>\n",
       "    </tr>\n",
       "  </tbody>\n",
       "</table>\n",
       "</div>"
      ],
      "text/plain": [
       "                                           name  league_id  \\\n",
       "0             #DOTA_Item_The_International_2012      65001   \n",
       "1  #DOTA_Item_The_International_East_Qualifiers      65004   \n",
       "2  #DOTA_Item_The_International_West_Qualifiers      65005   \n",
       "3               #DOTA_Item_The_International_TP      65006   \n",
       "4             #DOTA_Item_The_International_2014        600   \n",
       "\n",
       "                                         description  \\\n",
       "0            #DOTA_Item_Desc_League_TheInternational   \n",
       "1  #DOTA_Item_Desc_The_International_East_Qualifiers   \n",
       "2  #DOTA_Item_Desc_Copy_of_The_International_East...   \n",
       "3               #DOTA_Item_Desc_The_International_TP   \n",
       "4          #DOTA_Item_Desc_Copy_of_The_International   \n",
       "\n",
       "                                      tournament_url  itemdef  \n",
       "0  http://www.dota2.com/tournaments/international...    15072  \n",
       "1  http://www.dota2.com/tournaments/international...    15157  \n",
       "2  http://www.dota2.com/tournaments/international...    15158  \n",
       "3   http://www.dota2.com/international/announcement/    15406  \n",
       "4       http://www.dota2.com/international/overview/    15768  "
      ]
     },
     "execution_count": 9,
     "metadata": {},
     "output_type": "execute_result"
    }
   ],
   "source": [
    "leagues_df = pd.read_sql_query('SELECT * FROM leagues', con=conn)\n",
    "leagues_df.head()"
   ]
  },
  {
   "cell_type": "code",
   "execution_count": 10,
   "metadata": {
    "ExecuteTime": {
     "end_time": "2020-08-04T06:33:17.054024Z",
     "start_time": "2020-08-04T06:33:17.020328Z"
    }
   },
   "outputs": [
    {
     "data": {
      "text/html": [
       "<div>\n",
       "<style scoped>\n",
       "    .dataframe tbody tr th:only-of-type {\n",
       "        vertical-align: middle;\n",
       "    }\n",
       "\n",
       "    .dataframe tbody tr th {\n",
       "        vertical-align: top;\n",
       "    }\n",
       "\n",
       "    .dataframe thead th {\n",
       "        text-align: right;\n",
       "    }\n",
       "</style>\n",
       "<table border=\"1\" class=\"dataframe\">\n",
       "  <thead>\n",
       "    <tr style=\"text-align: right;\">\n",
       "      <th></th>\n",
       "      <th>series_id</th>\n",
       "      <th>series_type</th>\n",
       "      <th>match_id</th>\n",
       "      <th>match_seq_num</th>\n",
       "      <th>start_time</th>\n",
       "      <th>lobby_type</th>\n",
       "      <th>radiant_team_id</th>\n",
       "      <th>dire_team_id</th>\n",
       "      <th>league_id</th>\n",
       "    </tr>\n",
       "  </thead>\n",
       "  <tbody>\n",
       "    <tr>\n",
       "      <th>0</th>\n",
       "      <td>0</td>\n",
       "      <td>0</td>\n",
       "      <td>37633163</td>\n",
       "      <td>36588728</td>\n",
       "      <td>2012-09-03 05:06:14</td>\n",
       "      <td>1</td>\n",
       "      <td>5</td>\n",
       "      <td>36</td>\n",
       "      <td>65001</td>\n",
       "    </tr>\n",
       "    <tr>\n",
       "      <th>1</th>\n",
       "      <td>0</td>\n",
       "      <td>0</td>\n",
       "      <td>37629117</td>\n",
       "      <td>36584196</td>\n",
       "      <td>2012-09-03 04:11:02</td>\n",
       "      <td>1</td>\n",
       "      <td>36</td>\n",
       "      <td>5</td>\n",
       "      <td>65001</td>\n",
       "    </tr>\n",
       "    <tr>\n",
       "      <th>2</th>\n",
       "      <td>0</td>\n",
       "      <td>0</td>\n",
       "      <td>37626434</td>\n",
       "      <td>36580456</td>\n",
       "      <td>2012-09-03 03:33:27</td>\n",
       "      <td>1</td>\n",
       "      <td>5</td>\n",
       "      <td>36</td>\n",
       "      <td>65001</td>\n",
       "    </tr>\n",
       "    <tr>\n",
       "      <th>3</th>\n",
       "      <td>0</td>\n",
       "      <td>0</td>\n",
       "      <td>37623177</td>\n",
       "      <td>36578120</td>\n",
       "      <td>2012-09-03 02:49:34</td>\n",
       "      <td>1</td>\n",
       "      <td>36</td>\n",
       "      <td>5</td>\n",
       "      <td>65001</td>\n",
       "    </tr>\n",
       "    <tr>\n",
       "      <th>4</th>\n",
       "      <td>0</td>\n",
       "      <td>0</td>\n",
       "      <td>37613366</td>\n",
       "      <td>36570849</td>\n",
       "      <td>2012-09-03 01:20:12</td>\n",
       "      <td>1</td>\n",
       "      <td>15</td>\n",
       "      <td>5</td>\n",
       "      <td>65001</td>\n",
       "    </tr>\n",
       "  </tbody>\n",
       "</table>\n",
       "</div>"
      ],
      "text/plain": [
       "   series_id  series_type  match_id  match_seq_num           start_time  \\\n",
       "0          0            0  37633163       36588728  2012-09-03 05:06:14   \n",
       "1          0            0  37629117       36584196  2012-09-03 04:11:02   \n",
       "2          0            0  37626434       36580456  2012-09-03 03:33:27   \n",
       "3          0            0  37623177       36578120  2012-09-03 02:49:34   \n",
       "4          0            0  37613366       36570849  2012-09-03 01:20:12   \n",
       "\n",
       "   lobby_type  radiant_team_id  dire_team_id  league_id  \n",
       "0           1                5            36      65001  \n",
       "1           1               36             5      65001  \n",
       "2           1                5            36      65001  \n",
       "3           1               36             5      65001  \n",
       "4           1               15             5      65001  "
      ]
     },
     "execution_count": 10,
     "metadata": {},
     "output_type": "execute_result"
    }
   ],
   "source": [
    "matches_df = pd.read_sql_query('SELECT * FROM matches', con=conn)\n",
    "matches_df.head()"
   ]
  },
  {
   "cell_type": "code",
   "execution_count": 11,
   "metadata": {
    "ExecuteTime": {
     "end_time": "2020-08-04T06:33:17.325871Z",
     "start_time": "2020-08-04T06:33:17.244361Z"
    }
   },
   "outputs": [
    {
     "data": {
      "text/html": [
       "<div>\n",
       "<style scoped>\n",
       "    .dataframe tbody tr th:only-of-type {\n",
       "        vertical-align: middle;\n",
       "    }\n",
       "\n",
       "    .dataframe tbody tr th {\n",
       "        vertical-align: top;\n",
       "    }\n",
       "\n",
       "    .dataframe thead th {\n",
       "        text-align: right;\n",
       "    }\n",
       "</style>\n",
       "<table border=\"1\" class=\"dataframe\">\n",
       "  <thead>\n",
       "    <tr style=\"text-align: right;\">\n",
       "      <th></th>\n",
       "      <th>radiant_win</th>\n",
       "      <th>duration</th>\n",
       "      <th>pre_game_duration</th>\n",
       "      <th>start_time</th>\n",
       "      <th>match_id</th>\n",
       "      <th>match_seq_num</th>\n",
       "      <th>tower_status_radiant</th>\n",
       "      <th>tower_status_dire</th>\n",
       "      <th>barracks_status_radiant</th>\n",
       "      <th>barracks_status_dire</th>\n",
       "      <th>...</th>\n",
       "      <th>radiant_team_id</th>\n",
       "      <th>radiant_name</th>\n",
       "      <th>radiant_logo</th>\n",
       "      <th>radiant_team_complete</th>\n",
       "      <th>dire_team_id</th>\n",
       "      <th>dire_name</th>\n",
       "      <th>dire_logo</th>\n",
       "      <th>dire_team_complete</th>\n",
       "      <th>radiant_captain</th>\n",
       "      <th>dire_captain</th>\n",
       "    </tr>\n",
       "  </thead>\n",
       "  <tbody>\n",
       "    <tr>\n",
       "      <th>0</th>\n",
       "      <td>1</td>\n",
       "      <td>3434</td>\n",
       "      <td>0</td>\n",
       "      <td>1346648774</td>\n",
       "      <td>37633163</td>\n",
       "      <td>36588728</td>\n",
       "      <td>1846</td>\n",
       "      <td>0</td>\n",
       "      <td>63</td>\n",
       "      <td>48</td>\n",
       "      <td>...</td>\n",
       "      <td>5.0</td>\n",
       "      <td>INVICTUS GAMING</td>\n",
       "      <td>9.754798e+17</td>\n",
       "      <td>1.0</td>\n",
       "      <td>36.0</td>\n",
       "      <td>Natus Vincere</td>\n",
       "      <td>7.706133e+17</td>\n",
       "      <td>1.0</td>\n",
       "      <td>NaN</td>\n",
       "      <td>NaN</td>\n",
       "    </tr>\n",
       "    <tr>\n",
       "      <th>1</th>\n",
       "      <td>0</td>\n",
       "      <td>2310</td>\n",
       "      <td>0</td>\n",
       "      <td>1346645462</td>\n",
       "      <td>37629117</td>\n",
       "      <td>36584196</td>\n",
       "      <td>1796</td>\n",
       "      <td>1972</td>\n",
       "      <td>63</td>\n",
       "      <td>63</td>\n",
       "      <td>...</td>\n",
       "      <td>36.0</td>\n",
       "      <td>Natus Vincere</td>\n",
       "      <td>7.706133e+17</td>\n",
       "      <td>1.0</td>\n",
       "      <td>5.0</td>\n",
       "      <td>INVICTUS GAMING</td>\n",
       "      <td>9.754798e+17</td>\n",
       "      <td>1.0</td>\n",
       "      <td>NaN</td>\n",
       "      <td>NaN</td>\n",
       "    </tr>\n",
       "    <tr>\n",
       "      <th>2</th>\n",
       "      <td>0</td>\n",
       "      <td>1140</td>\n",
       "      <td>0</td>\n",
       "      <td>1346643207</td>\n",
       "      <td>37626434</td>\n",
       "      <td>36580456</td>\n",
       "      <td>1592</td>\n",
       "      <td>1974</td>\n",
       "      <td>14</td>\n",
       "      <td>63</td>\n",
       "      <td>...</td>\n",
       "      <td>5.0</td>\n",
       "      <td>INVICTUS GAMING</td>\n",
       "      <td>9.754798e+17</td>\n",
       "      <td>1.0</td>\n",
       "      <td>36.0</td>\n",
       "      <td>Natus Vincere</td>\n",
       "      <td>7.706133e+17</td>\n",
       "      <td>1.0</td>\n",
       "      <td>NaN</td>\n",
       "      <td>NaN</td>\n",
       "    </tr>\n",
       "    <tr>\n",
       "      <th>3</th>\n",
       "      <td>0</td>\n",
       "      <td>1700</td>\n",
       "      <td>0</td>\n",
       "      <td>1346640574</td>\n",
       "      <td>37623177</td>\n",
       "      <td>36578120</td>\n",
       "      <td>1540</td>\n",
       "      <td>1974</td>\n",
       "      <td>3</td>\n",
       "      <td>63</td>\n",
       "      <td>...</td>\n",
       "      <td>36.0</td>\n",
       "      <td>Natus Vincere</td>\n",
       "      <td>7.706133e+17</td>\n",
       "      <td>1.0</td>\n",
       "      <td>5.0</td>\n",
       "      <td>INVICTUS GAMING</td>\n",
       "      <td>9.754798e+17</td>\n",
       "      <td>1.0</td>\n",
       "      <td>NaN</td>\n",
       "      <td>NaN</td>\n",
       "    </tr>\n",
       "    <tr>\n",
       "      <th>4</th>\n",
       "      <td>0</td>\n",
       "      <td>2686</td>\n",
       "      <td>0</td>\n",
       "      <td>1346635212</td>\n",
       "      <td>37613366</td>\n",
       "      <td>36570849</td>\n",
       "      <td>1796</td>\n",
       "      <td>1958</td>\n",
       "      <td>55</td>\n",
       "      <td>63</td>\n",
       "      <td>...</td>\n",
       "      <td>15.0</td>\n",
       "      <td>PSG.LGD</td>\n",
       "      <td>9.270561e+17</td>\n",
       "      <td>1.0</td>\n",
       "      <td>5.0</td>\n",
       "      <td>INVICTUS GAMING</td>\n",
       "      <td>9.754798e+17</td>\n",
       "      <td>1.0</td>\n",
       "      <td>NaN</td>\n",
       "      <td>NaN</td>\n",
       "    </tr>\n",
       "  </tbody>\n",
       "</table>\n",
       "<p>5 rows × 32 columns</p>\n",
       "</div>"
      ],
      "text/plain": [
       "   radiant_win  duration  pre_game_duration  start_time  match_id  \\\n",
       "0            1      3434                  0  1346648774  37633163   \n",
       "1            0      2310                  0  1346645462  37629117   \n",
       "2            0      1140                  0  1346643207  37626434   \n",
       "3            0      1700                  0  1346640574  37623177   \n",
       "4            0      2686                  0  1346635212  37613366   \n",
       "\n",
       "   match_seq_num  tower_status_radiant  tower_status_dire  \\\n",
       "0       36588728                  1846                  0   \n",
       "1       36584196                  1796               1972   \n",
       "2       36580456                  1592               1974   \n",
       "3       36578120                  1540               1974   \n",
       "4       36570849                  1796               1958   \n",
       "\n",
       "   barracks_status_radiant  barracks_status_dire  ...  radiant_team_id  \\\n",
       "0                       63                    48  ...              5.0   \n",
       "1                       63                    63  ...             36.0   \n",
       "2                       14                    63  ...              5.0   \n",
       "3                        3                    63  ...             36.0   \n",
       "4                       55                    63  ...             15.0   \n",
       "\n",
       "      radiant_name  radiant_logo  radiant_team_complete  dire_team_id  \\\n",
       "0  INVICTUS GAMING  9.754798e+17                    1.0          36.0   \n",
       "1    Natus Vincere  7.706133e+17                    1.0           5.0   \n",
       "2  INVICTUS GAMING  9.754798e+17                    1.0          36.0   \n",
       "3    Natus Vincere  7.706133e+17                    1.0           5.0   \n",
       "4          PSG.LGD  9.270561e+17                    1.0           5.0   \n",
       "\n",
       "         dire_name     dire_logo  dire_team_complete  radiant_captain  \\\n",
       "0    Natus Vincere  7.706133e+17                 1.0              NaN   \n",
       "1  INVICTUS GAMING  9.754798e+17                 1.0              NaN   \n",
       "2    Natus Vincere  7.706133e+17                 1.0              NaN   \n",
       "3  INVICTUS GAMING  9.754798e+17                 1.0              NaN   \n",
       "4  INVICTUS GAMING  9.754798e+17                 1.0              NaN   \n",
       "\n",
       "   dire_captain  \n",
       "0           NaN  \n",
       "1           NaN  \n",
       "2           NaN  \n",
       "3           NaN  \n",
       "4           NaN  \n",
       "\n",
       "[5 rows x 32 columns]"
      ]
     },
     "execution_count": 11,
     "metadata": {},
     "output_type": "execute_result"
    }
   ],
   "source": [
    "m_details_df = pd.read_sql_query('SELECT * FROM match_details', con=conn)\n",
    "m_details_df.head()"
   ]
  },
  {
   "cell_type": "code",
   "execution_count": 12,
   "metadata": {
    "ExecuteTime": {
     "end_time": "2020-08-04T06:33:18.196165Z",
     "start_time": "2020-08-04T06:33:18.058464Z"
    }
   },
   "outputs": [
    {
     "data": {
      "text/html": [
       "<div>\n",
       "<style scoped>\n",
       "    .dataframe tbody tr th:only-of-type {\n",
       "        vertical-align: middle;\n",
       "    }\n",
       "\n",
       "    .dataframe tbody tr th {\n",
       "        vertical-align: top;\n",
       "    }\n",
       "\n",
       "    .dataframe thead th {\n",
       "        text-align: right;\n",
       "    }\n",
       "</style>\n",
       "<table border=\"1\" class=\"dataframe\">\n",
       "  <thead>\n",
       "    <tr style=\"text-align: right;\">\n",
       "      <th></th>\n",
       "      <th>is_pick</th>\n",
       "      <th>hero_id</th>\n",
       "      <th>team</th>\n",
       "      <th>order</th>\n",
       "      <th>match_id</th>\n",
       "    </tr>\n",
       "  </thead>\n",
       "  <tbody>\n",
       "    <tr>\n",
       "      <th>0</th>\n",
       "      <td>0</td>\n",
       "      <td>51</td>\n",
       "      <td>0</td>\n",
       "      <td>0</td>\n",
       "      <td>207148444</td>\n",
       "    </tr>\n",
       "    <tr>\n",
       "      <th>1</th>\n",
       "      <td>0</td>\n",
       "      <td>88</td>\n",
       "      <td>1</td>\n",
       "      <td>1</td>\n",
       "      <td>207148444</td>\n",
       "    </tr>\n",
       "    <tr>\n",
       "      <th>2</th>\n",
       "      <td>0</td>\n",
       "      <td>65</td>\n",
       "      <td>0</td>\n",
       "      <td>2</td>\n",
       "      <td>207148444</td>\n",
       "    </tr>\n",
       "    <tr>\n",
       "      <th>3</th>\n",
       "      <td>0</td>\n",
       "      <td>55</td>\n",
       "      <td>1</td>\n",
       "      <td>3</td>\n",
       "      <td>207148444</td>\n",
       "    </tr>\n",
       "    <tr>\n",
       "      <th>4</th>\n",
       "      <td>1</td>\n",
       "      <td>54</td>\n",
       "      <td>0</td>\n",
       "      <td>4</td>\n",
       "      <td>207148444</td>\n",
       "    </tr>\n",
       "  </tbody>\n",
       "</table>\n",
       "</div>"
      ],
      "text/plain": [
       "   is_pick  hero_id  team  order   match_id\n",
       "0        0       51     0      0  207148444\n",
       "1        0       88     1      1  207148444\n",
       "2        0       65     0      2  207148444\n",
       "3        0       55     1      3  207148444\n",
       "4        1       54     0      4  207148444"
      ]
     },
     "execution_count": 12,
     "metadata": {},
     "output_type": "execute_result"
    }
   ],
   "source": [
    "picks_bans_df = pd.read_sql_query('SELECT * FROM picks_bans', con=conn)\n",
    "picks_bans_df.head()"
   ]
  },
  {
   "cell_type": "code",
   "execution_count": 13,
   "metadata": {
    "ExecuteTime": {
     "end_time": "2020-08-04T06:33:18.278670Z",
     "start_time": "2020-08-04T06:33:18.272655Z"
    }
   },
   "outputs": [],
   "source": [
    "heroes, cnt = np.unique(picks_bans_df.hero_id, return_counts=True)"
   ]
  },
  {
   "cell_type": "code",
   "execution_count": 14,
   "metadata": {
    "ExecuteTime": {
     "end_time": "2020-08-04T06:33:18.641698Z",
     "start_time": "2020-08-04T06:33:18.617104Z"
    }
   },
   "outputs": [
    {
     "data": {
      "text/html": [
       "<div>\n",
       "<style scoped>\n",
       "    .dataframe tbody tr th:only-of-type {\n",
       "        vertical-align: middle;\n",
       "    }\n",
       "\n",
       "    .dataframe tbody tr th {\n",
       "        vertical-align: top;\n",
       "    }\n",
       "\n",
       "    .dataframe thead th {\n",
       "        text-align: right;\n",
       "    }\n",
       "</style>\n",
       "<table border=\"1\" class=\"dataframe\">\n",
       "  <thead>\n",
       "    <tr style=\"text-align: right;\">\n",
       "      <th></th>\n",
       "      <th>level_0</th>\n",
       "      <th>index</th>\n",
       "      <th>Hero Type</th>\n",
       "      <th>Hero Name</th>\n",
       "      <th>Hero Picture</th>\n",
       "      <th>Hero Link</th>\n",
       "    </tr>\n",
       "  </thead>\n",
       "  <tbody>\n",
       "    <tr>\n",
       "      <th>0</th>\n",
       "      <td>0</td>\n",
       "      <td>0</td>\n",
       "      <td>Strength</td>\n",
       "      <td>abaddon</td>\n",
       "      <td>https://gamepedia.cursecdn.com/dota2_gamepedia...</td>\n",
       "      <td>https://dota2.gamepedia.com/Abaddon</td>\n",
       "    </tr>\n",
       "    <tr>\n",
       "      <th>1</th>\n",
       "      <td>1</td>\n",
       "      <td>1</td>\n",
       "      <td>Strength</td>\n",
       "      <td>alchemist</td>\n",
       "      <td>https://gamepedia.cursecdn.com/dota2_gamepedia...</td>\n",
       "      <td>https://dota2.gamepedia.com/Alchemist</td>\n",
       "    </tr>\n",
       "    <tr>\n",
       "      <th>2</th>\n",
       "      <td>2</td>\n",
       "      <td>2</td>\n",
       "      <td>Strength</td>\n",
       "      <td>axe</td>\n",
       "      <td>https://gamepedia.cursecdn.com/dota2_gamepedia...</td>\n",
       "      <td>https://dota2.gamepedia.com/Axe</td>\n",
       "    </tr>\n",
       "    <tr>\n",
       "      <th>3</th>\n",
       "      <td>3</td>\n",
       "      <td>3</td>\n",
       "      <td>Strength</td>\n",
       "      <td>beastmaster</td>\n",
       "      <td>https://gamepedia.cursecdn.com/dota2_gamepedia...</td>\n",
       "      <td>https://dota2.gamepedia.com/Beastmaster</td>\n",
       "    </tr>\n",
       "    <tr>\n",
       "      <th>4</th>\n",
       "      <td>4</td>\n",
       "      <td>4</td>\n",
       "      <td>Strength</td>\n",
       "      <td>brewmaster</td>\n",
       "      <td>https://gamepedia.cursecdn.com/dota2_gamepedia...</td>\n",
       "      <td>https://dota2.gamepedia.com/Brewmaster</td>\n",
       "    </tr>\n",
       "  </tbody>\n",
       "</table>\n",
       "</div>"
      ],
      "text/plain": [
       "   level_0  index Hero Type    Hero Name  \\\n",
       "0        0      0  Strength      abaddon   \n",
       "1        1      1  Strength    alchemist   \n",
       "2        2      2  Strength          axe   \n",
       "3        3      3  Strength  beastmaster   \n",
       "4        4      4  Strength   brewmaster   \n",
       "\n",
       "                                        Hero Picture  \\\n",
       "0  https://gamepedia.cursecdn.com/dota2_gamepedia...   \n",
       "1  https://gamepedia.cursecdn.com/dota2_gamepedia...   \n",
       "2  https://gamepedia.cursecdn.com/dota2_gamepedia...   \n",
       "3  https://gamepedia.cursecdn.com/dota2_gamepedia...   \n",
       "4  https://gamepedia.cursecdn.com/dota2_gamepedia...   \n",
       "\n",
       "                                 Hero Link  \n",
       "0      https://dota2.gamepedia.com/Abaddon  \n",
       "1    https://dota2.gamepedia.com/Alchemist  \n",
       "2          https://dota2.gamepedia.com/Axe  \n",
       "3  https://dota2.gamepedia.com/Beastmaster  \n",
       "4   https://dota2.gamepedia.com/Brewmaster  "
      ]
     },
     "execution_count": 14,
     "metadata": {},
     "output_type": "execute_result"
    }
   ],
   "source": [
    "heroes_df = pd.read_sql_query('SELECT * FROM heroes', con=conn)\n",
    "df_heroes['Hero Name'] = df_heroes['Hero Name'].str.lower()\n",
    "df_heroes['Hero Name'] = df_heroes['Hero Name'].str.replace('-', '')\n",
    "df_heroes['Hero Name'] = df_heroes['Hero Name'].str.replace('nercolyte', 'necrolyte')\n",
    "df_heroes.head()"
   ]
  },
  {
   "cell_type": "code",
   "execution_count": 15,
   "metadata": {
    "ExecuteTime": {
     "end_time": "2020-08-04T06:33:19.067168Z",
     "start_time": "2020-08-04T06:33:19.052338Z"
    }
   },
   "outputs": [],
   "source": [
    "heroes_deets_df = pd.merge(heroes_df, df_heroes, left_on='name', \n",
    "                           right_on='Hero Name', how='left').drop_duplicates()"
   ]
  },
  {
   "cell_type": "code",
   "execution_count": 16,
   "metadata": {
    "ExecuteTime": {
     "end_time": "2020-08-04T06:33:19.720272Z",
     "start_time": "2020-08-04T06:33:19.715001Z"
    }
   },
   "outputs": [],
   "source": [
    "heroes_deets_df = heroes_deets_df.drop('index', axis=1)"
   ]
  },
  {
   "cell_type": "code",
   "execution_count": 17,
   "metadata": {
    "ExecuteTime": {
     "end_time": "2020-08-04T06:33:35.392060Z",
     "start_time": "2020-08-04T06:33:20.042642Z"
    }
   },
   "outputs": [],
   "source": [
    "main_stats = [\n",
    "    heroes_deets_df[heroes_deets_df.hero_id == h_id]['Hero Type'].values[0]\n",
    "    for h_id in picks_bans_df.hero_id\n",
    "]"
   ]
  },
  {
   "cell_type": "code",
   "execution_count": 18,
   "metadata": {
    "ExecuteTime": {
     "end_time": "2020-08-04T06:33:35.401120Z",
     "start_time": "2020-08-04T06:33:35.395419Z"
    }
   },
   "outputs": [],
   "source": [
    "picks_bans_df['main_stat'] = main_stats"
   ]
  },
  {
   "cell_type": "markdown",
   "metadata": {},
   "source": [
    "## IV. Exploratory Data Analysis\n",
    "\n",
    "Our analyses to understand the changes in Dota 2 meta according to the previously stated objectives are answered in the following exploratory data analysis sections:\n",
    "\n",
    "    A. `The International` Hero Selection: Analyzed by Hero's Primary Attribute\n",
    "\n",
    "    B. Predicting Match Outcomes and the Top Outcome Predictors\n",
    "\n",
    "    C. End-of-game Stats' Statistical Significance to TI Evolution\n",
    "\n"
   ]
  },
  {
   "cell_type": "markdown",
   "metadata": {},
   "source": [
    "### A. `The International` Hero Selection: Analyzed by Hero's Primary Attribute"
   ]
  },
  {
   "cell_type": "code",
   "execution_count": 19,
   "metadata": {
    "ExecuteTime": {
     "end_time": "2020-08-04T06:33:35.580593Z",
     "start_time": "2020-08-04T06:33:35.403184Z"
    }
   },
   "outputs": [
    {
     "data": {
      "image/png": "[encoded data removed]",
      "text/plain": [
       "<Figure size 432x288 with 1 Axes>"
      ]
     },
     "metadata": {
      "needs_background": "light"
     },
     "output_type": "display_data"
    }
   ],
   "source": [
    "sns.countplot(picks_bans_df.main_stat, palette={ 'Intelligence': 'royalblue',\n",
    "    'Strength': 'darkorange','Agility': 'seagreen'})\n",
    "plt.title(\"Overall hero participation in all leagues and matches by main attribute\")\n",
    "plt.ylabel(\"Number of hero participation\")\n",
    "plt.xlabel(\"\");"
   ]
  },
  {
   "cell_type": "markdown",
   "metadata": {},
   "source": [
    "#### Section Insights\n",
    "\n",
    "* We can observe the for TI4 to TI8, Intelligence-type heroes had the highest overall participation in picks and bans. This observation is supported by the fact that Intelligence-typed heroes bring an abundance of crowd-control and burst damage skills that are crucial in team fights.\n",
    "* Also, the usual five-man team is composed of two support heroes, an offlaner, a mid-carry hero, and a safelane carry hero. Supports are usually intelligence heroes which already tips the hero counts to this primary attribute. In addition, there are quite a few mid-carry heroes which drives the count even higher. Some of these int-type mid favorites are `Tinker`, `Invoker`, and `Queen of Pain`."
   ]
  },
  {
   "cell_type": "code",
   "execution_count": 20,
   "metadata": {
    "ExecuteTime": {
     "end_time": "2020-08-04T06:33:35.610327Z",
     "start_time": "2020-08-04T06:33:35.582185Z"
    }
   },
   "outputs": [
    {
     "data": {
      "text/plain": [
       "league_id\n",
       "600     [683689782, 683782650, 683949082, 684017244, 6...\n",
       "2733    [1697618202, 1697676707, 1697737102, 169781823...\n",
       "4664    [2569415435, 2569470828, 2569531910, 256961090...\n",
       "4768    [2460470597, 2460368035, 2460284429, 246013142...\n",
       "5401    [3372622939, 3372676225, 3372726385, 337226970...\n",
       "Name: match_id, dtype: object"
      ]
     },
     "execution_count": 20,
     "metadata": {},
     "output_type": "execute_result"
    }
   ],
   "source": [
    "matches_by_league = matches_df.groupby('league_id').match_id.unique()\n",
    "matches_by_league[:5]"
   ]
  },
  {
   "cell_type": "code",
   "execution_count": 21,
   "metadata": {
    "ExecuteTime": {
     "end_time": "2020-08-04T06:33:35.626956Z",
     "start_time": "2020-08-04T06:33:35.615411Z"
    }
   },
   "outputs": [],
   "source": [
    "picks_df = picks_bans_df[picks_bans_df.is_pick == 1]\n",
    "bans_df = picks_bans_df[picks_bans_df.is_pick == 0]"
   ]
  },
  {
   "cell_type": "code",
   "execution_count": 22,
   "metadata": {
    "ExecuteTime": {
     "end_time": "2020-08-04T06:33:35.633114Z",
     "start_time": "2020-08-04T06:33:35.629849Z"
    }
   },
   "outputs": [],
   "source": [
    "# official TIs league ids\n",
    "official_TI = [600, 2733, 4664, 5401, 9870]"
   ]
  },
  {
   "cell_type": "markdown",
   "metadata": {},
   "source": [
    "### Hero Pick-Ban Participations\n",
    "\n",
    "We further looked into hero participation by looking into picks and bans as discussed below. We sorted the data set into different TIs in order to observe any changes on the counts for each primary attribute. Observations were made for both Picks and Bans, a stage in the beginning of a match where teams take turns in picking and banning heroes.  \n",
    "\n",
    "#### Hero pick participation by main attribute per TI"
   ]
  },
  {
   "cell_type": "code",
   "execution_count": 23,
   "metadata": {
    "ExecuteTime": {
     "end_time": "2020-08-04T06:33:36.366625Z",
     "start_time": "2020-08-04T06:33:35.635303Z"
    }
   },
   "outputs": [
    {
     "data": {
      "image/png": "[encoded data removed]",
      "text/plain": [
       "<Figure size 1440x216 with 5 Axes>"
      ]
     },
     "metadata": {
      "needs_background": "light"
     },
     "output_type": "display_data"
    }
   ],
   "source": [
    "fig, ax = plt.subplots(nrows=1, ncols=5, sharey=True, figsize=(20, 3))\n",
    "palette = {\n",
    "    'Intelligence': 'royalblue',\n",
    "    'Strength': 'darkorange',\n",
    "    'Agility': 'seagreen'\n",
    "}\n",
    "for league, ax in zip(official_TI, ax):\n",
    "    data = picks_df[picks_df.match_id.isin(matches_by_league[league])]\n",
    "    sns.countplot(x='main_stat', data=data, \n",
    "                  order=data.main_stat.value_counts().index, \n",
    "                  palette=palette, ax=ax)\n",
    "    tourney = leagues_df[leagues_df.league_id == league].name.str.replace('#DOTA_Item_', '').values[0]\n",
    "    ax.set_title(tourney)\n",
    "    ax.set_xlabel('')\n",
    "    ax.set_ylabel('')"
   ]
  },
  {
   "cell_type": "markdown",
   "metadata": {},
   "source": [
    "#### Section Insights\n",
    "* We can observe from the plots above that TI4 had relatively fewer games brought by the smaller tournamet format at that time.\n",
    "* Although the plots are still consistent in showing int-type heroes to comprise the majority of picks, we can observe an increase in agi-type picks during TI6 and TI8. These increases are attributed to the popularity of in type scouts, `Riki` and `Bounty Hunter`. `Monkey King` also became part in of the Dota 2 meta in TI8 as one of these flexible agi-type scouts. "
   ]
  },
  {
   "cell_type": "markdown",
   "metadata": {},
   "source": [
    "#### Hero ban participation by main attribute per TI"
   ]
  },
  {
   "cell_type": "code",
   "execution_count": 24,
   "metadata": {
    "ExecuteTime": {
     "end_time": "2020-08-04T06:33:36.978196Z",
     "start_time": "2020-08-04T06:33:36.368684Z"
    }
   },
   "outputs": [
    {
     "data": {
      "image/png": "[encoded data removed]",
      "text/plain": [
       "<Figure size 1440x216 with 5 Axes>"
      ]
     },
     "metadata": {
      "needs_background": "light"
     },
     "output_type": "display_data"
    }
   ],
   "source": [
    "fig, ax = plt.subplots(nrows=1, ncols=5, sharey=True, figsize=(20, 3))\n",
    "palette = {\n",
    "    'Intelligence': 'royalblue',\n",
    "    'Strength': 'darkorange',\n",
    "    'Agility': 'seagreen'\n",
    "}\n",
    "for league, ax in zip(official_TI, ax):\n",
    "    data = bans_df[bans_df.match_id.isin(matches_by_league[league])]\n",
    "    sns.countplot(x='main_stat', data=data, \n",
    "                  order=data.main_stat.value_counts().index, \n",
    "                  palette=palette, ax=ax)\n",
    "    tourney = leagues_df[leagues_df.league_id == league].name.str.replace('#DOTA_Item_', '').values[0]\n",
    "    ax.set_title(tourney)\n",
    "    ax.set_xlabel('')\n",
    "    ax.set_ylabel('')"
   ]
  },
  {
   "cell_type": "markdown",
   "metadata": {},
   "source": [
    "#### Section Insights\n",
    "\n",
    "* We can observe that for TI5 and TI6, agility heroes are banned the most. These can be explained by tendency of these heroes to dominate the game and secure wins provided that they get good support in the games early stages.\n",
    "* Also, we can observe that in TI7 and TI8, int-heroes get band the most. TIs where teams with \"all star\" player line-ups like `Team Liquid` can snowball with mid-cores such as `Miracle`'s `Invoker`."
   ]
  },
  {
   "cell_type": "code",
   "execution_count": 25,
   "metadata": {
    "ExecuteTime": {
     "end_time": "2020-08-04T06:33:52.897128Z",
     "start_time": "2020-08-04T06:33:36.980563Z"
    }
   },
   "outputs": [],
   "source": [
    "heroes_names = [\n",
    "    heroes_deets_df[heroes_deets_df.hero_id == h_id].name.values[0]\n",
    "    for h_id in picks_bans_df.hero_id\n",
    "]"
   ]
  },
  {
   "cell_type": "code",
   "execution_count": 26,
   "metadata": {
    "ExecuteTime": {
     "end_time": "2020-08-04T06:33:52.905604Z",
     "start_time": "2020-08-04T06:33:52.899589Z"
    }
   },
   "outputs": [],
   "source": [
    "picks_bans_df['hero_names'] = heroes_names"
   ]
  },
  {
   "cell_type": "code",
   "execution_count": 27,
   "metadata": {
    "ExecuteTime": {
     "end_time": "2020-08-04T06:33:52.916307Z",
     "start_time": "2020-08-04T06:33:52.907350Z"
    }
   },
   "outputs": [],
   "source": [
    "picks_df = picks_bans_df[picks_bans_df.is_pick == 1]\n",
    "bans_df = picks_bans_df[picks_bans_df.is_pick == 0]"
   ]
  },
  {
   "cell_type": "markdown",
   "metadata": {},
   "source": [
    "### A Look Into First Picks\n",
    "In the pick-ban stage, teams already battle it out by trying to pick the heroes which best fits their chosen strategy without revealing that strategy to their opponents. It is also crucial that teams are able to read their opponent's plan based on the manner of how heroes are being picked or banned. In this early mind game in the match, it would be worth looking into how teams choose their first picks.\n",
    "\n",
    "#### First pick heroes' main attribute per TI"
   ]
  },
  {
   "cell_type": "code",
   "execution_count": 28,
   "metadata": {
    "ExecuteTime": {
     "end_time": "2020-08-04T06:33:53.546142Z",
     "start_time": "2020-08-04T06:33:52.920535Z"
    }
   },
   "outputs": [
    {
     "data": {
      "image/png": "[encoded data removed]",
      "text/plain": [
       "<Figure size 1440x216 with 5 Axes>"
      ]
     },
     "metadata": {
      "needs_background": "light"
     },
     "output_type": "display_data"
    }
   ],
   "source": [
    "fig, ax = plt.subplots(nrows=1, ncols=5, sharey=True, figsize=(20, 3))\n",
    "palette = {\n",
    "    'Intelligence': 'royalblue',\n",
    "    'Strength': 'darkorange',\n",
    "    'Agility': 'seagreen'\n",
    "}\n",
    "for league, ax in zip(official_TI, ax):\n",
    "    data = picks_df[picks_df.match_id.isin(matches_by_league[league])]\n",
    "    data = data[data.order.isin([6, 7])]\n",
    "    data = data[data.main_stat.isin(data.main_stat.value_counts()[:15].index)]\n",
    "    sns.countplot(x='main_stat', data=data, orient='h',\n",
    "                  order=data.main_stat.value_counts().index, \n",
    "                  palette=palette, ax=ax)\n",
    "    tourney = leagues_df[leagues_df.league_id == league].name.str.replace('#DOTA_Item_', '').values[0]\n",
    "    ax.set_title(tourney)\n",
    "    ax.set_xlabel('')\n",
    "    ax.set_ylabel('')"
   ]
  },
  {
   "cell_type": "markdown",
   "metadata": {},
   "source": [
    "#### Section Insights\n",
    "\n",
    "* From this initial countplot, it is difficult to observe any strategy in the first pick apart from the usual observation in favoring int-type as support heroes. Teams usually pick non-core (support) heroes first to save their core hereoes from being countered. \n",
    "* Also, we can observe strength-type heroes being pcked early on in the game due to their resilience in oppenent counter-picking."
   ]
  },
  {
   "cell_type": "code",
   "execution_count": 29,
   "metadata": {
    "ExecuteTime": {
     "end_time": "2020-08-04T06:33:53.557933Z",
     "start_time": "2020-08-04T06:33:53.548369Z"
    }
   },
   "outputs": [],
   "source": [
    "types = {'Intelligence':'royalblue', 'Strength':'darkorange', 'Agility':'seagreen'}\n",
    "dataframe = (df_heroes[['Hero Name', 'Hero Type']].drop_duplicates().set_index('Hero Name'))\n",
    "dataframe['Hero Type'] = dataframe['Hero Type'].map(types)\n",
    "palette = dataframe.to_dict()['Hero Type']"
   ]
  },
  {
   "cell_type": "code",
   "execution_count": 30,
   "metadata": {
    "ExecuteTime": {
     "end_time": "2020-08-04T06:33:55.238292Z",
     "start_time": "2020-08-04T06:33:53.560103Z"
    }
   },
   "outputs": [
    {
     "data": {
      "image/png": "[encoded data removed]",
      "text/plain": [
       "<Figure size 1440x216 with 5 Axes>"
      ]
     },
     "metadata": {
      "needs_background": "light"
     },
     "output_type": "display_data"
    }
   ],
   "source": [
    "fig, ax = plt.subplots(nrows=1, ncols=5, sharex=True, figsize=(20, 3))\n",
    "lists = []\n",
    "for league, ax in zip(official_TI, ax):\n",
    "    data = picks_df[picks_df.match_id.isin(matches_by_league[league])]\n",
    "    data = data[data.order.isin([6, 7])]\n",
    "    data = data[data.hero_names.isin(data.hero_names.value_counts()[:10].index)]\n",
    "    ha = ['right', 'center', 'left']\n",
    "    xlabels = data.hero_names\n",
    "    sns.countplot(y='hero_names', data=data, orient='h',\n",
    "                  order=data.hero_names.value_counts().index, ax=ax, palette=palette)\n",
    "    tourney = leagues_df[leagues_df.league_id == league].name.str.replace('#DOTA_Item_', '').values[0]\n",
    "    ax.set_title(tourney)\n",
    "    ax.set_xlabel('')\n",
    "    ax.set_ylabel('')\n",
    "plt.tight_layout()"
   ]
  },
  {
   "cell_type": "markdown",
   "metadata": {},
   "source": [
    "#### Section Insights\n",
    "* We can observe that most first picked heroes are those with crowd control and attribute-increasing (buff) skills that can fit in most type of team strategies.\n",
    "\n",
    "* The heroes which appear as top picks, in addition, have the best trade-offs between team fight relevance and in concealing the overall strategy a team plans to use."
   ]
  },
  {
   "cell_type": "markdown",
   "metadata": {},
   "source": [
    "### B. Predicting Match Outcomes and the Top Outcome Predictors\n",
    "\n",
    "One may ask, what wins a Dota 2 game? Considering the many factors that affects a games outcome, our team performed an analysis on the top predictors of TI outcomes using end-game data obtained from Steam's API. Specifically, we used a `Gradient Boosting Classifier` model to determine outcomes. We also explored using the following features and obtained the corresponding accuracies.\n",
    "\n",
    "**1. Items Only: ~83% Accuracy**<br>\n",
    "**2. All available end-game data: ~94 Accuracy**\n",
    "\n",
    "Presented below is our analysis and details regarding the features used."
   ]
  },
  {
   "cell_type": "code",
   "execution_count": 31,
   "metadata": {
    "ExecuteTime": {
     "end_time": "2020-08-04T06:33:55.494991Z",
     "start_time": "2020-08-04T06:33:55.240392Z"
    }
   },
   "outputs": [
    {
     "data": {
      "text/html": [
       "<div>\n",
       "<style scoped>\n",
       "    .dataframe tbody tr th:only-of-type {\n",
       "        vertical-align: middle;\n",
       "    }\n",
       "\n",
       "    .dataframe tbody tr th {\n",
       "        vertical-align: top;\n",
       "    }\n",
       "\n",
       "    .dataframe thead th {\n",
       "        text-align: right;\n",
       "    }\n",
       "</style>\n",
       "<table border=\"1\" class=\"dataframe\">\n",
       "  <thead>\n",
       "    <tr style=\"text-align: right;\">\n",
       "      <th></th>\n",
       "      <th>account_id</th>\n",
       "      <th>player_slot</th>\n",
       "      <th>hero_id</th>\n",
       "      <th>item_0</th>\n",
       "      <th>item_1</th>\n",
       "      <th>item_2</th>\n",
       "      <th>item_3</th>\n",
       "      <th>item_4</th>\n",
       "      <th>item_5</th>\n",
       "      <th>backpack_0</th>\n",
       "      <th>...</th>\n",
       "      <th>deaths</th>\n",
       "      <th>assists</th>\n",
       "      <th>leaver_status</th>\n",
       "      <th>last_hits</th>\n",
       "      <th>denies</th>\n",
       "      <th>gold_per_min</th>\n",
       "      <th>xp_per_min</th>\n",
       "      <th>level</th>\n",
       "      <th>match_id</th>\n",
       "      <th>additional_units</th>\n",
       "    </tr>\n",
       "  </thead>\n",
       "  <tbody>\n",
       "    <tr>\n",
       "      <th>0</th>\n",
       "      <td>82327674</td>\n",
       "      <td>0</td>\n",
       "      <td>90</td>\n",
       "      <td>214</td>\n",
       "      <td>46</td>\n",
       "      <td>61</td>\n",
       "      <td>42</td>\n",
       "      <td>24</td>\n",
       "      <td>102</td>\n",
       "      <td>0</td>\n",
       "      <td>...</td>\n",
       "      <td>2</td>\n",
       "      <td>21</td>\n",
       "      <td>0</td>\n",
       "      <td>123</td>\n",
       "      <td>0</td>\n",
       "      <td>241</td>\n",
       "      <td>281</td>\n",
       "      <td>17</td>\n",
       "      <td>37633163</td>\n",
       "      <td>NaN</td>\n",
       "    </tr>\n",
       "    <tr>\n",
       "      <th>1</th>\n",
       "      <td>88585077</td>\n",
       "      <td>1</td>\n",
       "      <td>46</td>\n",
       "      <td>147</td>\n",
       "      <td>0</td>\n",
       "      <td>46</td>\n",
       "      <td>1</td>\n",
       "      <td>50</td>\n",
       "      <td>141</td>\n",
       "      <td>0</td>\n",
       "      <td>...</td>\n",
       "      <td>6</td>\n",
       "      <td>17</td>\n",
       "      <td>0</td>\n",
       "      <td>254</td>\n",
       "      <td>16</td>\n",
       "      <td>453</td>\n",
       "      <td>493</td>\n",
       "      <td>23</td>\n",
       "      <td>37633163</td>\n",
       "      <td>NaN</td>\n",
       "    </tr>\n",
       "    <tr>\n",
       "      <th>2</th>\n",
       "      <td>90137663</td>\n",
       "      <td>2</td>\n",
       "      <td>89</td>\n",
       "      <td>196</td>\n",
       "      <td>147</td>\n",
       "      <td>63</td>\n",
       "      <td>46</td>\n",
       "      <td>114</td>\n",
       "      <td>123</td>\n",
       "      <td>0</td>\n",
       "      <td>...</td>\n",
       "      <td>5</td>\n",
       "      <td>15</td>\n",
       "      <td>0</td>\n",
       "      <td>418</td>\n",
       "      <td>7</td>\n",
       "      <td>526</td>\n",
       "      <td>556</td>\n",
       "      <td>24</td>\n",
       "      <td>37633163</td>\n",
       "      <td>NaN</td>\n",
       "    </tr>\n",
       "    <tr>\n",
       "      <th>3</th>\n",
       "      <td>90045009</td>\n",
       "      <td>3</td>\n",
       "      <td>55</td>\n",
       "      <td>96</td>\n",
       "      <td>119</td>\n",
       "      <td>214</td>\n",
       "      <td>79</td>\n",
       "      <td>90</td>\n",
       "      <td>46</td>\n",
       "      <td>0</td>\n",
       "      <td>...</td>\n",
       "      <td>2</td>\n",
       "      <td>17</td>\n",
       "      <td>0</td>\n",
       "      <td>279</td>\n",
       "      <td>3</td>\n",
       "      <td>406</td>\n",
       "      <td>531</td>\n",
       "      <td>24</td>\n",
       "      <td>37633163</td>\n",
       "      <td>NaN</td>\n",
       "    </tr>\n",
       "    <tr>\n",
       "      <th>4</th>\n",
       "      <td>88553213</td>\n",
       "      <td>4</td>\n",
       "      <td>29</td>\n",
       "      <td>180</td>\n",
       "      <td>36</td>\n",
       "      <td>1</td>\n",
       "      <td>110</td>\n",
       "      <td>30</td>\n",
       "      <td>37</td>\n",
       "      <td>0</td>\n",
       "      <td>...</td>\n",
       "      <td>1</td>\n",
       "      <td>24</td>\n",
       "      <td>0</td>\n",
       "      <td>103</td>\n",
       "      <td>0</td>\n",
       "      <td>271</td>\n",
       "      <td>365</td>\n",
       "      <td>20</td>\n",
       "      <td>37633163</td>\n",
       "      <td>NaN</td>\n",
       "    </tr>\n",
       "  </tbody>\n",
       "</table>\n",
       "<p>5 rows × 24 columns</p>\n",
       "</div>"
      ],
      "text/plain": [
       "   account_id  player_slot  hero_id  item_0  item_1  item_2  item_3  item_4  \\\n",
       "0    82327674            0       90     214      46      61      42      24   \n",
       "1    88585077            1       46     147       0      46       1      50   \n",
       "2    90137663            2       89     196     147      63      46     114   \n",
       "3    90045009            3       55      96     119     214      79      90   \n",
       "4    88553213            4       29     180      36       1     110      30   \n",
       "\n",
       "   item_5  backpack_0  ...  deaths  assists  leaver_status  last_hits  denies  \\\n",
       "0     102           0  ...       2       21              0        123       0   \n",
       "1     141           0  ...       6       17              0        254      16   \n",
       "2     123           0  ...       5       15              0        418       7   \n",
       "3      46           0  ...       2       17              0        279       3   \n",
       "4      37           0  ...       1       24              0        103       0   \n",
       "\n",
       "   gold_per_min  xp_per_min  level  match_id  additional_units  \n",
       "0           241         281     17  37633163               NaN  \n",
       "1           453         493     23  37633163               NaN  \n",
       "2           526         556     24  37633163               NaN  \n",
       "3           406         531     24  37633163               NaN  \n",
       "4           271         365     20  37633163               NaN  \n",
       "\n",
       "[5 rows x 24 columns]"
      ]
     },
     "execution_count": 31,
     "metadata": {},
     "output_type": "execute_result"
    }
   ],
   "source": [
    "match_players = pd.read_sql_query('SELECT * FROM match_players', con=conn)\n",
    "match_players.head()"
   ]
  },
  {
   "cell_type": "code",
   "execution_count": 32,
   "metadata": {
    "ExecuteTime": {
     "end_time": "2020-08-04T06:33:55.522436Z",
     "start_time": "2020-08-04T06:33:55.496784Z"
    }
   },
   "outputs": [
    {
     "data": {
      "text/html": [
       "<div>\n",
       "<style scoped>\n",
       "    .dataframe tbody tr th:only-of-type {\n",
       "        vertical-align: middle;\n",
       "    }\n",
       "\n",
       "    .dataframe tbody tr th {\n",
       "        vertical-align: top;\n",
       "    }\n",
       "\n",
       "    .dataframe thead th {\n",
       "        text-align: right;\n",
       "    }\n",
       "</style>\n",
       "<table border=\"1\" class=\"dataframe\">\n",
       "  <thead>\n",
       "    <tr style=\"text-align: right;\">\n",
       "      <th></th>\n",
       "      <th>name</th>\n",
       "      <th>cost</th>\n",
       "      <th>secret_shop</th>\n",
       "      <th>side_shop</th>\n",
       "      <th>recipe</th>\n",
       "      <th>item_id</th>\n",
       "    </tr>\n",
       "  </thead>\n",
       "  <tbody>\n",
       "    <tr>\n",
       "      <th>0</th>\n",
       "      <td>blink</td>\n",
       "      <td>2250</td>\n",
       "      <td>0</td>\n",
       "      <td>0</td>\n",
       "      <td>0</td>\n",
       "      <td>1</td>\n",
       "    </tr>\n",
       "    <tr>\n",
       "      <th>1</th>\n",
       "      <td>blades of attack</td>\n",
       "      <td>450</td>\n",
       "      <td>0</td>\n",
       "      <td>0</td>\n",
       "      <td>0</td>\n",
       "      <td>2</td>\n",
       "    </tr>\n",
       "    <tr>\n",
       "      <th>2</th>\n",
       "      <td>broadsword</td>\n",
       "      <td>1000</td>\n",
       "      <td>0</td>\n",
       "      <td>0</td>\n",
       "      <td>0</td>\n",
       "      <td>3</td>\n",
       "    </tr>\n",
       "    <tr>\n",
       "      <th>3</th>\n",
       "      <td>chainmail</td>\n",
       "      <td>550</td>\n",
       "      <td>0</td>\n",
       "      <td>0</td>\n",
       "      <td>0</td>\n",
       "      <td>4</td>\n",
       "    </tr>\n",
       "    <tr>\n",
       "      <th>4</th>\n",
       "      <td>claymore</td>\n",
       "      <td>1400</td>\n",
       "      <td>0</td>\n",
       "      <td>0</td>\n",
       "      <td>0</td>\n",
       "      <td>5</td>\n",
       "    </tr>\n",
       "  </tbody>\n",
       "</table>\n",
       "</div>"
      ],
      "text/plain": [
       "               name  cost  secret_shop  side_shop  recipe  item_id\n",
       "0             blink  2250            0          0       0        1\n",
       "1  blades of attack   450            0          0       0        2\n",
       "2        broadsword  1000            0          0       0        3\n",
       "3         chainmail   550            0          0       0        4\n",
       "4          claymore  1400            0          0       0        5"
      ]
     },
     "execution_count": 32,
     "metadata": {},
     "output_type": "execute_result"
    }
   ],
   "source": [
    "dota_items = pd.read_sql_query('SELECT * from items', con=conn)\n",
    "dota_items.head()"
   ]
  },
  {
   "cell_type": "code",
   "execution_count": 33,
   "metadata": {
    "ExecuteTime": {
     "end_time": "2020-08-04T06:33:55.571808Z",
     "start_time": "2020-08-04T06:33:55.525080Z"
    }
   },
   "outputs": [],
   "source": [
    "full_matches = pd.merge(m_details_df[['match_id', 'radiant_win']], match_players, on='match_id')\n",
    "full_matches = pd.merge(matches_df[['match_id', 'league_id']], full_matches, on='match_id')\n",
    "full_matches = pd.merge(leagues_df[['league_id', 'name']], full_matches, on='league_id')\n",
    "full_matches = pd.merge(full_matches, heroes_df, on='hero_id').rename(columns={'name_y':'hero_name'})"
   ]
  },
  {
   "cell_type": "code",
   "execution_count": 34,
   "metadata": {
    "ExecuteTime": {
     "end_time": "2020-08-04T06:33:55.811836Z",
     "start_time": "2020-08-04T06:33:55.573682Z"
    }
   },
   "outputs": [
    {
     "data": {
      "text/html": [
       "<div>\n",
       "<style scoped>\n",
       "    .dataframe tbody tr th:only-of-type {\n",
       "        vertical-align: middle;\n",
       "    }\n",
       "\n",
       "    .dataframe tbody tr th {\n",
       "        vertical-align: top;\n",
       "    }\n",
       "\n",
       "    .dataframe thead th {\n",
       "        text-align: right;\n",
       "    }\n",
       "</style>\n",
       "<table border=\"1\" class=\"dataframe\">\n",
       "  <thead>\n",
       "    <tr style=\"text-align: right;\">\n",
       "      <th></th>\n",
       "      <th>league_id</th>\n",
       "      <th>name_x</th>\n",
       "      <th>match_id</th>\n",
       "      <th>radiant_win</th>\n",
       "      <th>account_id</th>\n",
       "      <th>player_slot</th>\n",
       "      <th>hero_id</th>\n",
       "      <th>item_0</th>\n",
       "      <th>item_1</th>\n",
       "      <th>item_2</th>\n",
       "      <th>...</th>\n",
       "      <th>last_hits</th>\n",
       "      <th>denies</th>\n",
       "      <th>gold_per_min</th>\n",
       "      <th>xp_per_min</th>\n",
       "      <th>level</th>\n",
       "      <th>additional_units</th>\n",
       "      <th>hero_name</th>\n",
       "      <th>items</th>\n",
       "      <th>radiant</th>\n",
       "      <th>win</th>\n",
       "    </tr>\n",
       "  </thead>\n",
       "  <tbody>\n",
       "    <tr>\n",
       "      <th>0</th>\n",
       "      <td>65001</td>\n",
       "      <td>#DOTA_Item_The_International_2012</td>\n",
       "      <td>37633163</td>\n",
       "      <td>True</td>\n",
       "      <td>82327674</td>\n",
       "      <td>0</td>\n",
       "      <td>90</td>\n",
       "      <td>214</td>\n",
       "      <td>46</td>\n",
       "      <td>61</td>\n",
       "      <td>...</td>\n",
       "      <td>123</td>\n",
       "      <td>0</td>\n",
       "      <td>241</td>\n",
       "      <td>281</td>\n",
       "      <td>17</td>\n",
       "      <td>NaN</td>\n",
       "      <td>keeper of the light</td>\n",
       "      <td>[214, 46, 61, 42, 24, 102]</td>\n",
       "      <td>True</td>\n",
       "      <td>True</td>\n",
       "    </tr>\n",
       "    <tr>\n",
       "      <th>1</th>\n",
       "      <td>65001</td>\n",
       "      <td>#DOTA_Item_The_International_2012</td>\n",
       "      <td>37578738</td>\n",
       "      <td>True</td>\n",
       "      <td>87278757</td>\n",
       "      <td>128</td>\n",
       "      <td>90</td>\n",
       "      <td>43</td>\n",
       "      <td>214</td>\n",
       "      <td>36</td>\n",
       "      <td>...</td>\n",
       "      <td>61</td>\n",
       "      <td>2</td>\n",
       "      <td>201</td>\n",
       "      <td>198</td>\n",
       "      <td>11</td>\n",
       "      <td>NaN</td>\n",
       "      <td>keeper of the light</td>\n",
       "      <td>[43, 214, 36, 73, 37, 23]</td>\n",
       "      <td>False</td>\n",
       "      <td>False</td>\n",
       "    </tr>\n",
       "    <tr>\n",
       "      <th>2</th>\n",
       "      <td>65001</td>\n",
       "      <td>#DOTA_Item_The_International_2012</td>\n",
       "      <td>37086655</td>\n",
       "      <td>True</td>\n",
       "      <td>85805514</td>\n",
       "      <td>131</td>\n",
       "      <td>90</td>\n",
       "      <td>102</td>\n",
       "      <td>37</td>\n",
       "      <td>11</td>\n",
       "      <td>...</td>\n",
       "      <td>69</td>\n",
       "      <td>1</td>\n",
       "      <td>239</td>\n",
       "      <td>231</td>\n",
       "      <td>10</td>\n",
       "      <td>NaN</td>\n",
       "      <td>keeper of the light</td>\n",
       "      <td>[102, 37, 11, 214, 16, 0]</td>\n",
       "      <td>False</td>\n",
       "      <td>False</td>\n",
       "    </tr>\n",
       "    <tr>\n",
       "      <th>3</th>\n",
       "      <td>65001</td>\n",
       "      <td>#DOTA_Item_The_International_2012</td>\n",
       "      <td>37062303</td>\n",
       "      <td>True</td>\n",
       "      <td>82630959</td>\n",
       "      <td>130</td>\n",
       "      <td>90</td>\n",
       "      <td>214</td>\n",
       "      <td>34</td>\n",
       "      <td>46</td>\n",
       "      <td>...</td>\n",
       "      <td>93</td>\n",
       "      <td>2</td>\n",
       "      <td>184</td>\n",
       "      <td>174</td>\n",
       "      <td>11</td>\n",
       "      <td>NaN</td>\n",
       "      <td>keeper of the light</td>\n",
       "      <td>[214, 34, 46, 92, 30, 42]</td>\n",
       "      <td>False</td>\n",
       "      <td>False</td>\n",
       "    </tr>\n",
       "    <tr>\n",
       "      <th>4</th>\n",
       "      <td>65001</td>\n",
       "      <td>#DOTA_Item_The_International_2012</td>\n",
       "      <td>36255449</td>\n",
       "      <td>True</td>\n",
       "      <td>85805514</td>\n",
       "      <td>2</td>\n",
       "      <td>90</td>\n",
       "      <td>102</td>\n",
       "      <td>11</td>\n",
       "      <td>61</td>\n",
       "      <td>...</td>\n",
       "      <td>83</td>\n",
       "      <td>0</td>\n",
       "      <td>339</td>\n",
       "      <td>284</td>\n",
       "      <td>12</td>\n",
       "      <td>NaN</td>\n",
       "      <td>keeper of the light</td>\n",
       "      <td>[102, 11, 61, 214, 73, 61]</td>\n",
       "      <td>True</td>\n",
       "      <td>True</td>\n",
       "    </tr>\n",
       "  </tbody>\n",
       "</table>\n",
       "<p>5 rows × 31 columns</p>\n",
       "</div>"
      ],
      "text/plain": [
       "   league_id                             name_x  match_id  radiant_win  \\\n",
       "0      65001  #DOTA_Item_The_International_2012  37633163         True   \n",
       "1      65001  #DOTA_Item_The_International_2012  37578738         True   \n",
       "2      65001  #DOTA_Item_The_International_2012  37086655         True   \n",
       "3      65001  #DOTA_Item_The_International_2012  37062303         True   \n",
       "4      65001  #DOTA_Item_The_International_2012  36255449         True   \n",
       "\n",
       "   account_id  player_slot  hero_id  item_0  item_1  item_2  ...  last_hits  \\\n",
       "0    82327674            0       90     214      46      61  ...        123   \n",
       "1    87278757          128       90      43     214      36  ...         61   \n",
       "2    85805514          131       90     102      37      11  ...         69   \n",
       "3    82630959          130       90     214      34      46  ...         93   \n",
       "4    85805514            2       90     102      11      61  ...         83   \n",
       "\n",
       "   denies  gold_per_min  xp_per_min  level  additional_units  \\\n",
       "0       0           241         281     17               NaN   \n",
       "1       2           201         198     11               NaN   \n",
       "2       1           239         231     10               NaN   \n",
       "3       2           184         174     11               NaN   \n",
       "4       0           339         284     12               NaN   \n",
       "\n",
       "             hero_name                       items  radiant    win  \n",
       "0  keeper of the light  [214, 46, 61, 42, 24, 102]     True   True  \n",
       "1  keeper of the light   [43, 214, 36, 73, 37, 23]    False  False  \n",
       "2  keeper of the light   [102, 37, 11, 214, 16, 0]    False  False  \n",
       "3  keeper of the light   [214, 34, 46, 92, 30, 42]    False  False  \n",
       "4  keeper of the light  [102, 11, 61, 214, 73, 61]     True   True  \n",
       "\n",
       "[5 rows x 31 columns]"
      ]
     },
     "execution_count": 34,
     "metadata": {},
     "output_type": "execute_result"
    }
   ],
   "source": [
    "full_matches['radiant_win'] = full_matches['radiant_win'].transform(lambda x: bool(x==1))\n",
    "full_matches['items'] = list(full_matches[['item_0', 'item_1', 'item_2', 'item_3', 'item_4', 'item_5']].values)\n",
    "full_matches['radiant'] = full_matches.apply(lambda x: bool(x['player_slot'] <=100), axis=1)\n",
    "full_matches['win'] = ~((full_matches['radiant']) ^ (full_matches['radiant_win']))\n",
    "full_matches.head()"
   ]
  },
  {
   "cell_type": "markdown",
   "metadata": {},
   "source": [
    "#### 1. Features Used: Items Only\n",
    "Prior to building our predictive model we aggregated team data per match. Additionally, we performed one-hot encoding for categorical features of the data. In these section, features used are only the items used by each team per match. See below codes and dataframe for the the result of this preprocessing."
   ]
  },
  {
   "cell_type": "code",
   "execution_count": 35,
   "metadata": {
    "ExecuteTime": {
     "end_time": "2020-08-04T06:33:55.816713Z",
     "start_time": "2020-08-04T06:33:55.813689Z"
    }
   },
   "outputs": [],
   "source": [
    "items_cols = ['item_0', 'item_1', 'item_2', 'item_3', 'item_4', 'item_5', \n",
    "              'backpack_0', 'backpack_1', 'backpack_2', 'item_neutral']"
   ]
  },
  {
   "cell_type": "code",
   "execution_count": 36,
   "metadata": {
    "ExecuteTime": {
     "end_time": "2020-08-04T06:33:56.205362Z",
     "start_time": "2020-08-04T06:33:55.818445Z"
    }
   },
   "outputs": [
    {
     "data": {
      "text/html": [
       "<div>\n",
       "<style scoped>\n",
       "    .dataframe tbody tr th:only-of-type {\n",
       "        vertical-align: middle;\n",
       "    }\n",
       "\n",
       "    .dataframe tbody tr th {\n",
       "        vertical-align: top;\n",
       "    }\n",
       "\n",
       "    .dataframe thead th {\n",
       "        text-align: right;\n",
       "    }\n",
       "</style>\n",
       "<table border=\"1\" class=\"dataframe\">\n",
       "  <thead>\n",
       "    <tr style=\"text-align: right;\">\n",
       "      <th></th>\n",
       "      <th></th>\n",
       "      <th>win</th>\n",
       "      <th>item_1</th>\n",
       "      <th>item_2</th>\n",
       "      <th>item_3</th>\n",
       "      <th>item_4</th>\n",
       "      <th>item_5</th>\n",
       "      <th>item_6</th>\n",
       "      <th>item_7</th>\n",
       "      <th>item_8</th>\n",
       "      <th>item_9</th>\n",
       "      <th>...</th>\n",
       "      <th>item_257</th>\n",
       "      <th>item_258</th>\n",
       "      <th>item_259</th>\n",
       "      <th>item_260</th>\n",
       "      <th>item_262</th>\n",
       "      <th>item_263</th>\n",
       "      <th>item_265</th>\n",
       "      <th>item_266</th>\n",
       "      <th>item_267</th>\n",
       "      <th>item_1029</th>\n",
       "    </tr>\n",
       "    <tr>\n",
       "      <th>match_id</th>\n",
       "      <th>radiant</th>\n",
       "      <th></th>\n",
       "      <th></th>\n",
       "      <th></th>\n",
       "      <th></th>\n",
       "      <th></th>\n",
       "      <th></th>\n",
       "      <th></th>\n",
       "      <th></th>\n",
       "      <th></th>\n",
       "      <th></th>\n",
       "      <th></th>\n",
       "      <th></th>\n",
       "      <th></th>\n",
       "      <th></th>\n",
       "      <th></th>\n",
       "      <th></th>\n",
       "      <th></th>\n",
       "      <th></th>\n",
       "      <th></th>\n",
       "      <th></th>\n",
       "      <th></th>\n",
       "    </tr>\n",
       "  </thead>\n",
       "  <tbody>\n",
       "    <tr>\n",
       "      <th rowspan=\"2\" valign=\"top\">36030092</th>\n",
       "      <th>False</th>\n",
       "      <td>0.0</td>\n",
       "      <td>1</td>\n",
       "      <td>0</td>\n",
       "      <td>0</td>\n",
       "      <td>0</td>\n",
       "      <td>0</td>\n",
       "      <td>0</td>\n",
       "      <td>0</td>\n",
       "      <td>0</td>\n",
       "      <td>1</td>\n",
       "      <td>...</td>\n",
       "      <td>0</td>\n",
       "      <td>0</td>\n",
       "      <td>0</td>\n",
       "      <td>0</td>\n",
       "      <td>0</td>\n",
       "      <td>0</td>\n",
       "      <td>0</td>\n",
       "      <td>0</td>\n",
       "      <td>0</td>\n",
       "      <td>0</td>\n",
       "    </tr>\n",
       "    <tr>\n",
       "      <th>True</th>\n",
       "      <td>1.0</td>\n",
       "      <td>2</td>\n",
       "      <td>0</td>\n",
       "      <td>0</td>\n",
       "      <td>0</td>\n",
       "      <td>0</td>\n",
       "      <td>0</td>\n",
       "      <td>0</td>\n",
       "      <td>0</td>\n",
       "      <td>0</td>\n",
       "      <td>...</td>\n",
       "      <td>0</td>\n",
       "      <td>0</td>\n",
       "      <td>0</td>\n",
       "      <td>0</td>\n",
       "      <td>0</td>\n",
       "      <td>0</td>\n",
       "      <td>0</td>\n",
       "      <td>0</td>\n",
       "      <td>0</td>\n",
       "      <td>0</td>\n",
       "    </tr>\n",
       "    <tr>\n",
       "      <th rowspan=\"2\" valign=\"top\">36035663</th>\n",
       "      <th>False</th>\n",
       "      <td>1.0</td>\n",
       "      <td>0</td>\n",
       "      <td>0</td>\n",
       "      <td>0</td>\n",
       "      <td>0</td>\n",
       "      <td>0</td>\n",
       "      <td>0</td>\n",
       "      <td>0</td>\n",
       "      <td>0</td>\n",
       "      <td>0</td>\n",
       "      <td>...</td>\n",
       "      <td>0</td>\n",
       "      <td>0</td>\n",
       "      <td>0</td>\n",
       "      <td>0</td>\n",
       "      <td>0</td>\n",
       "      <td>0</td>\n",
       "      <td>0</td>\n",
       "      <td>0</td>\n",
       "      <td>0</td>\n",
       "      <td>0</td>\n",
       "    </tr>\n",
       "    <tr>\n",
       "      <th>True</th>\n",
       "      <td>0.0</td>\n",
       "      <td>0</td>\n",
       "      <td>0</td>\n",
       "      <td>0</td>\n",
       "      <td>0</td>\n",
       "      <td>0</td>\n",
       "      <td>0</td>\n",
       "      <td>0</td>\n",
       "      <td>0</td>\n",
       "      <td>0</td>\n",
       "      <td>...</td>\n",
       "      <td>0</td>\n",
       "      <td>0</td>\n",
       "      <td>0</td>\n",
       "      <td>0</td>\n",
       "      <td>0</td>\n",
       "      <td>0</td>\n",
       "      <td>0</td>\n",
       "      <td>0</td>\n",
       "      <td>0</td>\n",
       "      <td>0</td>\n",
       "    </tr>\n",
       "    <tr>\n",
       "      <th>36036525</th>\n",
       "      <th>False</th>\n",
       "      <td>1.0</td>\n",
       "      <td>0</td>\n",
       "      <td>0</td>\n",
       "      <td>0</td>\n",
       "      <td>0</td>\n",
       "      <td>0</td>\n",
       "      <td>0</td>\n",
       "      <td>0</td>\n",
       "      <td>0</td>\n",
       "      <td>0</td>\n",
       "      <td>...</td>\n",
       "      <td>0</td>\n",
       "      <td>0</td>\n",
       "      <td>0</td>\n",
       "      <td>0</td>\n",
       "      <td>0</td>\n",
       "      <td>0</td>\n",
       "      <td>0</td>\n",
       "      <td>0</td>\n",
       "      <td>0</td>\n",
       "      <td>0</td>\n",
       "    </tr>\n",
       "  </tbody>\n",
       "</table>\n",
       "<p>5 rows × 192 columns</p>\n",
       "</div>"
      ],
      "text/plain": [
       "                  win  item_1  item_2  item_3  item_4  item_5  item_6  item_7  \\\n",
       "match_id radiant                                                                \n",
       "36030092 False    0.0       1       0       0       0       0       0       0   \n",
       "         True     1.0       2       0       0       0       0       0       0   \n",
       "36035663 False    1.0       0       0       0       0       0       0       0   \n",
       "         True     0.0       0       0       0       0       0       0       0   \n",
       "36036525 False    1.0       0       0       0       0       0       0       0   \n",
       "\n",
       "                  item_8  item_9  ...  item_257  item_258  item_259  item_260  \\\n",
       "match_id radiant                  ...                                           \n",
       "36030092 False         0       1  ...         0         0         0         0   \n",
       "         True          0       0  ...         0         0         0         0   \n",
       "36035663 False         0       0  ...         0         0         0         0   \n",
       "         True          0       0  ...         0         0         0         0   \n",
       "36036525 False         0       0  ...         0         0         0         0   \n",
       "\n",
       "                  item_262  item_263  item_265  item_266  item_267  item_1029  \n",
       "match_id radiant                                                               \n",
       "36030092 False           0         0         0         0         0          0  \n",
       "         True            0         0         0         0         0          0  \n",
       "36035663 False           0         0         0         0         0          0  \n",
       "         True            0         0         0         0         0          0  \n",
       "36036525 False           0         0         0         0         0          0  \n",
       "\n",
       "[5 rows x 192 columns]"
      ]
     },
     "execution_count": 36,
     "metadata": {},
     "output_type": "execute_result"
    }
   ],
   "source": [
    "combined_df = full_matches[['match_id', 'radiant', 'win']]\n",
    "\n",
    "item_df = pd.get_dummies(full_matches[items_cols].stack()).sum(level=0)\n",
    "item_df.columns = ['item_' + str(col) for col in item_df.columns]\n",
    "new_df = pd.concat([combined_df, item_df], axis=1)\n",
    "new_df = new_df.groupby(['match_id', 'radiant']).sum()\n",
    "new_df = new_df.drop('item_0', axis=1)\n",
    "new_df.win = new_df.win / 5.0\n",
    "new_df.head()"
   ]
  },
  {
   "cell_type": "code",
   "execution_count": 37,
   "metadata": {
    "ExecuteTime": {
     "end_time": "2020-08-04T06:33:56.216786Z",
     "start_time": "2020-08-04T06:33:56.207276Z"
    }
   },
   "outputs": [],
   "source": [
    "from sklearn.model_selection import train_test_split\n",
    "\n",
    "X = new_df[new_df.columns[1:]]\n",
    "y = new_df[['win']].values.flatten().astype('int')\n",
    "X_train, X_test, y_train, y_test = train_test_split(X, y, test_size=0.25)"
   ]
  },
  {
   "cell_type": "code",
   "execution_count": 38,
   "metadata": {
    "ExecuteTime": {
     "end_time": "2020-08-04T06:33:58.636995Z",
     "start_time": "2020-08-04T06:33:56.218524Z"
    }
   },
   "outputs": [
    {
     "name": "stdout",
     "output_type": "stream",
     "text": [
      "train score:  0.9580615097856477\n",
      "test score: 0.8324022346368715\n"
     ]
    }
   ],
   "source": [
    "from sklearn.ensemble import GradientBoostingClassifier\n",
    "\n",
    "gbr = GradientBoostingClassifier(max_depth=4, learning_rate=.1, n_estimators=200, random_state=143)\n",
    "gbr.fit(X_train, y_train)\n",
    "\n",
    "print('train score: ', gbr.score(X_train, y_train))\n",
    "print('test score:', gbr.score(X_test, y_test))"
   ]
  },
  {
   "cell_type": "code",
   "execution_count": 39,
   "metadata": {
    "ExecuteTime": {
     "end_time": "2020-08-04T06:33:58.651830Z",
     "start_time": "2020-08-04T06:33:58.638923Z"
    }
   },
   "outputs": [
    {
     "data": {
      "text/plain": [
       "Index(['item_30', 'item_117', 'item_29', 'item_21', 'item_218', 'item_42',\n",
       "       'item_40', 'item_90', 'item_92', 'item_229',\n",
       "       ...\n",
       "       'item_173', 'item_161', 'item_136', 'item_122', 'item_115', 'item_99',\n",
       "       'item_97', 'item_86', 'item_69', 'item_120'],\n",
       "      dtype='object', length=191)"
      ]
     },
     "execution_count": 39,
     "metadata": {},
     "output_type": "execute_result"
    }
   ],
   "source": [
    "new_df.columns[1:][np.argsort(gbr.feature_importances_)[::-1]]"
   ]
  },
  {
   "cell_type": "code",
   "execution_count": 40,
   "metadata": {
    "ExecuteTime": {
     "end_time": "2020-08-04T06:33:58.671423Z",
     "start_time": "2020-08-04T06:33:58.654270Z"
    }
   },
   "outputs": [
    {
     "data": {
      "text/html": [
       "<div>\n",
       "<style scoped>\n",
       "    .dataframe tbody tr th:only-of-type {\n",
       "        vertical-align: middle;\n",
       "    }\n",
       "\n",
       "    .dataframe tbody tr th {\n",
       "        vertical-align: top;\n",
       "    }\n",
       "\n",
       "    .dataframe thead th {\n",
       "        text-align: right;\n",
       "    }\n",
       "</style>\n",
       "<table border=\"1\" class=\"dataframe\">\n",
       "  <thead>\n",
       "    <tr style=\"text-align: right;\">\n",
       "      <th></th>\n",
       "      <th>name</th>\n",
       "      <th>cost</th>\n",
       "      <th>secret_shop</th>\n",
       "      <th>side_shop</th>\n",
       "      <th>recipe</th>\n",
       "      <th>item_id</th>\n",
       "    </tr>\n",
       "  </thead>\n",
       "  <tbody>\n",
       "    <tr>\n",
       "      <th>38</th>\n",
       "      <td>boots</td>\n",
       "      <td>500</td>\n",
       "      <td>0</td>\n",
       "      <td>0</td>\n",
       "      <td>0</td>\n",
       "      <td>29</td>\n",
       "    </tr>\n",
       "    <tr>\n",
       "      <th>39</th>\n",
       "      <td>gem</td>\n",
       "      <td>900</td>\n",
       "      <td>0</td>\n",
       "      <td>0</td>\n",
       "      <td>0</td>\n",
       "      <td>30</td>\n",
       "    </tr>\n",
       "    <tr>\n",
       "      <th>50</th>\n",
       "      <td>dust</td>\n",
       "      <td>80</td>\n",
       "      <td>0</td>\n",
       "      <td>0</td>\n",
       "      <td>0</td>\n",
       "      <td>40</td>\n",
       "    </tr>\n",
       "    <tr>\n",
       "      <th>52</th>\n",
       "      <td>ward observer</td>\n",
       "      <td>0</td>\n",
       "      <td>0</td>\n",
       "      <td>0</td>\n",
       "      <td>0</td>\n",
       "      <td>42</td>\n",
       "    </tr>\n",
       "    <tr>\n",
       "      <th>154</th>\n",
       "      <td>aegis</td>\n",
       "      <td>0</td>\n",
       "      <td>0</td>\n",
       "      <td>0</td>\n",
       "      <td>0</td>\n",
       "      <td>117</td>\n",
       "    </tr>\n",
       "  </tbody>\n",
       "</table>\n",
       "</div>"
      ],
      "text/plain": [
       "              name  cost  secret_shop  side_shop  recipe  item_id\n",
       "38           boots   500            0          0       0       29\n",
       "39             gem   900            0          0       0       30\n",
       "50            dust    80            0          0       0       40\n",
       "52   ward observer     0            0          0       0       42\n",
       "154          aegis     0            0          0       0      117"
      ]
     },
     "execution_count": 40,
     "metadata": {},
     "output_type": "execute_result"
    }
   ],
   "source": [
    "dota_items[dota_items.item_id.isin([30, 117, 29, 40, 42])]"
   ]
  },
  {
   "cell_type": "markdown",
   "metadata": {},
   "source": [
    "#### Section Insights\n",
    "Along with the success of building a predictive model in knowing match outcomes, the following insights surfaced:\n",
    "* Top outcome predictors are the items shown in the dataframe above. We can observe that most of these items (`observer wards`, `dust`, `gem`) relate to map awareness, map vision, and team fights. \n",
    "* Intuitively, you can't win games without `boots`, an item which improves mobility that is useful in all aspects of the game--from team fights down to the farming in the laning stage.\n",
    "* At the late game, acquiring an `Aegis of the Immortal` usually signifies team fight victories that often leads to successful push into the enemy base."
   ]
  },
  {
   "cell_type": "markdown",
   "metadata": {},
   "source": [
    "#### 2. Features used: Items and End-of-game Player Stats"
   ]
  },
  {
   "cell_type": "code",
   "execution_count": 41,
   "metadata": {
    "ExecuteTime": {
     "end_time": "2020-08-04T06:33:58.678180Z",
     "start_time": "2020-08-04T06:33:58.674516Z"
    }
   },
   "outputs": [],
   "source": [
    "stats_cols = ['kills', 'deaths', 'assists', 'last_hits', 'denies']"
   ]
  },
  {
   "cell_type": "code",
   "execution_count": 42,
   "metadata": {
    "ExecuteTime": {
     "end_time": "2020-08-04T06:33:59.083636Z",
     "start_time": "2020-08-04T06:33:58.680806Z"
    }
   },
   "outputs": [
    {
     "data": {
      "text/html": [
       "<div>\n",
       "<style scoped>\n",
       "    .dataframe tbody tr th:only-of-type {\n",
       "        vertical-align: middle;\n",
       "    }\n",
       "\n",
       "    .dataframe tbody tr th {\n",
       "        vertical-align: top;\n",
       "    }\n",
       "\n",
       "    .dataframe thead th {\n",
       "        text-align: right;\n",
       "    }\n",
       "</style>\n",
       "<table border=\"1\" class=\"dataframe\">\n",
       "  <thead>\n",
       "    <tr style=\"text-align: right;\">\n",
       "      <th></th>\n",
       "      <th></th>\n",
       "      <th>win</th>\n",
       "      <th>kills</th>\n",
       "      <th>deaths</th>\n",
       "      <th>assists</th>\n",
       "      <th>last_hits</th>\n",
       "      <th>denies</th>\n",
       "      <th>item_1</th>\n",
       "      <th>item_2</th>\n",
       "      <th>item_3</th>\n",
       "      <th>item_4</th>\n",
       "      <th>...</th>\n",
       "      <th>item_257</th>\n",
       "      <th>item_258</th>\n",
       "      <th>item_259</th>\n",
       "      <th>item_260</th>\n",
       "      <th>item_262</th>\n",
       "      <th>item_263</th>\n",
       "      <th>item_265</th>\n",
       "      <th>item_266</th>\n",
       "      <th>item_267</th>\n",
       "      <th>item_1029</th>\n",
       "    </tr>\n",
       "    <tr>\n",
       "      <th>match_id</th>\n",
       "      <th>radiant</th>\n",
       "      <th></th>\n",
       "      <th></th>\n",
       "      <th></th>\n",
       "      <th></th>\n",
       "      <th></th>\n",
       "      <th></th>\n",
       "      <th></th>\n",
       "      <th></th>\n",
       "      <th></th>\n",
       "      <th></th>\n",
       "      <th></th>\n",
       "      <th></th>\n",
       "      <th></th>\n",
       "      <th></th>\n",
       "      <th></th>\n",
       "      <th></th>\n",
       "      <th></th>\n",
       "      <th></th>\n",
       "      <th></th>\n",
       "      <th></th>\n",
       "      <th></th>\n",
       "    </tr>\n",
       "  </thead>\n",
       "  <tbody>\n",
       "    <tr>\n",
       "      <th rowspan=\"2\" valign=\"top\">36030092</th>\n",
       "      <th>False</th>\n",
       "      <td>0.0</td>\n",
       "      <td>16</td>\n",
       "      <td>29</td>\n",
       "      <td>36</td>\n",
       "      <td>825</td>\n",
       "      <td>50</td>\n",
       "      <td>1</td>\n",
       "      <td>0</td>\n",
       "      <td>0</td>\n",
       "      <td>0</td>\n",
       "      <td>...</td>\n",
       "      <td>0</td>\n",
       "      <td>0</td>\n",
       "      <td>0</td>\n",
       "      <td>0</td>\n",
       "      <td>0</td>\n",
       "      <td>0</td>\n",
       "      <td>0</td>\n",
       "      <td>0</td>\n",
       "      <td>0</td>\n",
       "      <td>0</td>\n",
       "    </tr>\n",
       "    <tr>\n",
       "      <th>True</th>\n",
       "      <td>1.0</td>\n",
       "      <td>28</td>\n",
       "      <td>16</td>\n",
       "      <td>65</td>\n",
       "      <td>896</td>\n",
       "      <td>26</td>\n",
       "      <td>2</td>\n",
       "      <td>0</td>\n",
       "      <td>0</td>\n",
       "      <td>0</td>\n",
       "      <td>...</td>\n",
       "      <td>0</td>\n",
       "      <td>0</td>\n",
       "      <td>0</td>\n",
       "      <td>0</td>\n",
       "      <td>0</td>\n",
       "      <td>0</td>\n",
       "      <td>0</td>\n",
       "      <td>0</td>\n",
       "      <td>0</td>\n",
       "      <td>0</td>\n",
       "    </tr>\n",
       "    <tr>\n",
       "      <th rowspan=\"2\" valign=\"top\">36035663</th>\n",
       "      <th>False</th>\n",
       "      <td>1.0</td>\n",
       "      <td>15</td>\n",
       "      <td>4</td>\n",
       "      <td>20</td>\n",
       "      <td>262</td>\n",
       "      <td>57</td>\n",
       "      <td>0</td>\n",
       "      <td>0</td>\n",
       "      <td>0</td>\n",
       "      <td>0</td>\n",
       "      <td>...</td>\n",
       "      <td>0</td>\n",
       "      <td>0</td>\n",
       "      <td>0</td>\n",
       "      <td>0</td>\n",
       "      <td>0</td>\n",
       "      <td>0</td>\n",
       "      <td>0</td>\n",
       "      <td>0</td>\n",
       "      <td>0</td>\n",
       "      <td>0</td>\n",
       "    </tr>\n",
       "    <tr>\n",
       "      <th>True</th>\n",
       "      <td>0.0</td>\n",
       "      <td>4</td>\n",
       "      <td>15</td>\n",
       "      <td>5</td>\n",
       "      <td>203</td>\n",
       "      <td>24</td>\n",
       "      <td>0</td>\n",
       "      <td>0</td>\n",
       "      <td>0</td>\n",
       "      <td>0</td>\n",
       "      <td>...</td>\n",
       "      <td>0</td>\n",
       "      <td>0</td>\n",
       "      <td>0</td>\n",
       "      <td>0</td>\n",
       "      <td>0</td>\n",
       "      <td>0</td>\n",
       "      <td>0</td>\n",
       "      <td>0</td>\n",
       "      <td>0</td>\n",
       "      <td>0</td>\n",
       "    </tr>\n",
       "    <tr>\n",
       "      <th>36036525</th>\n",
       "      <th>False</th>\n",
       "      <td>1.0</td>\n",
       "      <td>31</td>\n",
       "      <td>34</td>\n",
       "      <td>73</td>\n",
       "      <td>478</td>\n",
       "      <td>59</td>\n",
       "      <td>0</td>\n",
       "      <td>0</td>\n",
       "      <td>0</td>\n",
       "      <td>0</td>\n",
       "      <td>...</td>\n",
       "      <td>0</td>\n",
       "      <td>0</td>\n",
       "      <td>0</td>\n",
       "      <td>0</td>\n",
       "      <td>0</td>\n",
       "      <td>0</td>\n",
       "      <td>0</td>\n",
       "      <td>0</td>\n",
       "      <td>0</td>\n",
       "      <td>0</td>\n",
       "    </tr>\n",
       "  </tbody>\n",
       "</table>\n",
       "<p>5 rows × 197 columns</p>\n",
       "</div>"
      ],
      "text/plain": [
       "                  win  kills  deaths  assists  last_hits  denies  item_1  \\\n",
       "match_id radiant                                                           \n",
       "36030092 False    0.0     16      29       36        825      50       1   \n",
       "         True     1.0     28      16       65        896      26       2   \n",
       "36035663 False    1.0     15       4       20        262      57       0   \n",
       "         True     0.0      4      15        5        203      24       0   \n",
       "36036525 False    1.0     31      34       73        478      59       0   \n",
       "\n",
       "                  item_2  item_3  item_4  ...  item_257  item_258  item_259  \\\n",
       "match_id radiant                          ...                                 \n",
       "36030092 False         0       0       0  ...         0         0         0   \n",
       "         True          0       0       0  ...         0         0         0   \n",
       "36035663 False         0       0       0  ...         0         0         0   \n",
       "         True          0       0       0  ...         0         0         0   \n",
       "36036525 False         0       0       0  ...         0         0         0   \n",
       "\n",
       "                  item_260  item_262  item_263  item_265  item_266  item_267  \\\n",
       "match_id radiant                                                               \n",
       "36030092 False           0         0         0         0         0         0   \n",
       "         True            0         0         0         0         0         0   \n",
       "36035663 False           0         0         0         0         0         0   \n",
       "         True            0         0         0         0         0         0   \n",
       "36036525 False           0         0         0         0         0         0   \n",
       "\n",
       "                  item_1029  \n",
       "match_id radiant             \n",
       "36030092 False            0  \n",
       "         True             0  \n",
       "36035663 False            0  \n",
       "         True             0  \n",
       "36036525 False            0  \n",
       "\n",
       "[5 rows x 197 columns]"
      ]
     },
     "execution_count": 42,
     "metadata": {},
     "output_type": "execute_result"
    }
   ],
   "source": [
    "combined_df = full_matches[['match_id', 'radiant', 'win'] + stats_cols]\n",
    "\n",
    "item_df = pd.get_dummies(full_matches[items_cols].stack()).sum(level=0)\n",
    "item_df.columns = ['item_' + str(col) for col in item_df.columns]\n",
    "new_df = pd.concat([combined_df, item_df], axis=1)\n",
    "new_df = new_df.groupby(['match_id', 'radiant']).sum()\n",
    "new_df = new_df.drop('item_0', axis=1)\n",
    "new_df.win = new_df.win / 5.0\n",
    "new_df.head()"
   ]
  },
  {
   "cell_type": "code",
   "execution_count": 43,
   "metadata": {
    "ExecuteTime": {
     "end_time": "2020-08-04T06:33:59.095088Z",
     "start_time": "2020-08-04T06:33:59.085676Z"
    }
   },
   "outputs": [],
   "source": [
    "from sklearn.model_selection import train_test_split\n",
    "\n",
    "X = new_df[new_df.columns[1:]]\n",
    "y = new_df[['win']].values.flatten().astype('int')\n",
    "X_train, X_test, y_train, y_test = train_test_split(X, y, test_size=0.25)"
   ]
  },
  {
   "cell_type": "code",
   "execution_count": 44,
   "metadata": {
    "ExecuteTime": {
     "end_time": "2020-08-04T06:34:02.135522Z",
     "start_time": "2020-08-04T06:33:59.096895Z"
    }
   },
   "outputs": [
    {
     "name": "stdout",
     "output_type": "stream",
     "text": [
      "train score:  1.0\n",
      "test score: 0.9511173184357542\n"
     ]
    }
   ],
   "source": [
    "from sklearn.ensemble import GradientBoostingClassifier\n",
    "\n",
    "gbr = GradientBoostingClassifier(max_depth=4, learning_rate=.1, n_estimators=200, random_state=143)\n",
    "gbr.fit(X_train, y_train)\n",
    "\n",
    "print('train score: ', gbr.score(X_train, y_train))\n",
    "print('test score:', gbr.score(X_test, y_test))"
   ]
  },
  {
   "cell_type": "code",
   "execution_count": 45,
   "metadata": {
    "ExecuteTime": {
     "end_time": "2020-08-04T06:34:02.144608Z",
     "start_time": "2020-08-04T06:34:02.137372Z"
    }
   },
   "outputs": [
    {
     "data": {
      "text/plain": [
       "Index(['deaths', 'kills', 'assists', 'item_30', 'item_117', 'last_hits',\n",
       "       'denies', 'item_133', 'item_48', 'item_196',\n",
       "       ...\n",
       "       'item_75', 'item_85', 'item_120', 'item_91', 'item_94', 'item_97',\n",
       "       'item_99', 'item_101', 'item_111', 'item_1029'],\n",
       "      dtype='object', length=196)"
      ]
     },
     "execution_count": 45,
     "metadata": {},
     "output_type": "execute_result"
    }
   ],
   "source": [
    "new_df.columns[1:][np.argsort(gbr.feature_importances_)[::-1]]"
   ]
  },
  {
   "cell_type": "code",
   "execution_count": 46,
   "metadata": {
    "ExecuteTime": {
     "end_time": "2020-08-04T06:34:02.156607Z",
     "start_time": "2020-08-04T06:34:02.146299Z"
    }
   },
   "outputs": [
    {
     "data": {
      "text/html": [
       "<div>\n",
       "<style scoped>\n",
       "    .dataframe tbody tr th:only-of-type {\n",
       "        vertical-align: middle;\n",
       "    }\n",
       "\n",
       "    .dataframe tbody tr th {\n",
       "        vertical-align: top;\n",
       "    }\n",
       "\n",
       "    .dataframe thead th {\n",
       "        text-align: right;\n",
       "    }\n",
       "</style>\n",
       "<table border=\"1\" class=\"dataframe\">\n",
       "  <thead>\n",
       "    <tr style=\"text-align: right;\">\n",
       "      <th></th>\n",
       "      <th>name</th>\n",
       "      <th>cost</th>\n",
       "      <th>secret_shop</th>\n",
       "      <th>side_shop</th>\n",
       "      <th>recipe</th>\n",
       "      <th>item_id</th>\n",
       "    </tr>\n",
       "  </thead>\n",
       "  <tbody>\n",
       "    <tr>\n",
       "      <th>39</th>\n",
       "      <td>gem</td>\n",
       "      <td>900</td>\n",
       "      <td>0</td>\n",
       "      <td>0</td>\n",
       "      <td>0</td>\n",
       "      <td>30</td>\n",
       "    </tr>\n",
       "    <tr>\n",
       "      <th>63</th>\n",
       "      <td>travel boots</td>\n",
       "      <td>2500</td>\n",
       "      <td>0</td>\n",
       "      <td>0</td>\n",
       "      <td>0</td>\n",
       "      <td>48</td>\n",
       "    </tr>\n",
       "    <tr>\n",
       "      <th>154</th>\n",
       "      <td>aegis</td>\n",
       "      <td>0</td>\n",
       "      <td>0</td>\n",
       "      <td>0</td>\n",
       "      <td>0</td>\n",
       "      <td>117</td>\n",
       "    </tr>\n",
       "    <tr>\n",
       "      <th>193</th>\n",
       "      <td>butterfly</td>\n",
       "      <td>5275</td>\n",
       "      <td>0</td>\n",
       "      <td>0</td>\n",
       "      <td>0</td>\n",
       "      <td>139</td>\n",
       "    </tr>\n",
       "  </tbody>\n",
       "</table>\n",
       "</div>"
      ],
      "text/plain": [
       "             name  cost  secret_shop  side_shop  recipe  item_id\n",
       "39            gem   900            0          0       0       30\n",
       "63   travel boots  2500            0          0       0       48\n",
       "154         aegis     0            0          0       0      117\n",
       "193     butterfly  5275            0          0       0      139"
      ]
     },
     "execution_count": 46,
     "metadata": {},
     "output_type": "execute_result"
    }
   ],
   "source": [
    "dota_items[dota_items.item_id.isin([30, 117, 48, 139]) ]"
   ]
  },
  {
   "cell_type": "markdown",
   "metadata": {},
   "source": [
    "#### Section Insights\n",
    "* While pushing and destroying enemy buildings eventaully lead a team to breaking an opponent's `Ancient`, it is through `Kills` that teams are able to push effectively, turning the odds to their favor. Our predictive model supports this, putting `Kills` on the **top rank** as predictor of match outcomes.\n",
    "* Additionally, we can see late-game items such as `travel boots` and `butterfly` to be deterministic of match outcomes. `Travel boots` allows flexibility in split pushing, which increases map presence. Also, `butterfly` signals that safelane-carry agility heroes are successful in their roles of farming up for the late-game eventually securing wins for the team."
   ]
  },
  {
   "cell_type": "markdown",
   "metadata": {},
   "source": [
    "### C. End-of-game Stats' Statistical Significance to TI Evolution\n",
    "\n",
    "In order to detemine how TI meta has changed from TI4 and TI8, we also looked into the end-of-game stats of each player and the distributions of these stats. In addition, we performed Null Hyptohesis Significance Testing to determine if the differences in distributions resulting from Dota 2 updates are statistcally significant. The details are as follows."
   ]
  },
  {
   "cell_type": "code",
   "execution_count": 47,
   "metadata": {
    "ExecuteTime": {
     "end_time": "2020-08-04T06:34:02.408500Z",
     "start_time": "2020-08-04T06:34:02.158388Z"
    }
   },
   "outputs": [],
   "source": [
    "conn = \"sqlite:///dota2.sqlite3\"\n",
    "sql = \"SELECT name FROM sqlite_master WHERE type='table' ORDER BY name;\"\n",
    "hero_id = pd.read_sql(\"SELECT * from heroes;\", conn)\n",
    "match_details = pd.read_sql(\"SELECT * FROM match_details;\", conn)\n",
    "match_players = pd.read_sql(\"SELECT * FROM match_players;\", conn)\n",
    "ti_ids = {\n",
    "    \"TI4\":600,\n",
    "    \"TI5\":2733,\n",
    "    \"TI6\":4664,\n",
    "    \"TI7\":5401,\n",
    "    \"TI8\":9870\n",
    "}"
   ]
  },
  {
   "cell_type": "code",
   "execution_count": 48,
   "metadata": {
    "ExecuteTime": {
     "end_time": "2020-08-04T06:34:02.417624Z",
     "start_time": "2020-08-04T06:34:02.410301Z"
    }
   },
   "outputs": [],
   "source": [
    "ti4_ids = match_details.loc[match_details.leagueid==ti_ids.get('TI4'), 'match_id']\n",
    "ti5_ids = match_details.loc[match_details.leagueid==ti_ids.get('TI5'), 'match_id']\n",
    "ti6_ids = match_details.loc[match_details.leagueid==ti_ids.get('TI6'), 'match_id']\n",
    "ti7_ids = match_details.loc[match_details.leagueid==ti_ids.get('TI7'), 'match_id']\n",
    "ti8_ids = match_details.loc[match_details.leagueid==ti_ids.get('TI8'), 'match_id']"
   ]
  },
  {
   "cell_type": "code",
   "execution_count": 49,
   "metadata": {
    "ExecuteTime": {
     "end_time": "2020-08-04T06:34:02.454575Z",
     "start_time": "2020-08-04T06:34:02.419947Z"
    }
   },
   "outputs": [],
   "source": [
    "ti_match_ids = {\n",
    "    4: ti4_ids,\n",
    "    5: ti5_ids,\n",
    "    6: ti6_ids,\n",
    "    7: ti7_ids,\n",
    "    8: ti8_ids\n",
    "}\n",
    "for i in range(4, 9):\n",
    "    match_players.loc[match_players.match_id.isin(ti_match_ids.get(i)),\n",
    "                      'TI'] = i\n",
    "    match_details.loc[match_details.match_id.isin(ti_match_ids.get(i)),\n",
    "                      'TI'] = i"
   ]
  },
  {
   "cell_type": "markdown",
   "metadata": {},
   "source": [
    "#### 1. The Poisson Distribution and Rare IMBA Endgame Stats"
   ]
  },
  {
   "cell_type": "code",
   "execution_count": 50,
   "metadata": {
    "ExecuteTime": {
     "end_time": "2020-08-04T06:34:03.663598Z",
     "start_time": "2020-08-04T06:34:02.458921Z"
    }
   },
   "outputs": [
    {
     "data": {
      "image/png": "[encoded data removed]",
      "text/plain": [
       "<Figure size 487.1x216 with 2 Axes>"
      ]
     },
     "metadata": {},
     "output_type": "display_data"
    }
   ],
   "source": [
    "ge_cols = ['gold_per_min', 'xp_per_min', 'TI']\n",
    "ge = match_players[ge_cols]\n",
    "ge_melt = ge.melt(['TI'], var_name='variables', value_name='values')\n",
    "\n",
    "sns.set()\n",
    "g = sns.FacetGrid(ge_melt, col=\"variables\", hue=\"TI\", palette=\"Set1\")\n",
    "g = (g.map(sns.distplot, \"values\", hist=False))\n",
    "g.add_legend()\n",
    "plt.show()"
   ]
  },
  {
   "cell_type": "code",
   "execution_count": 51,
   "metadata": {
    "ExecuteTime": {
     "end_time": "2020-08-04T06:34:05.383303Z",
     "start_time": "2020-08-04T06:34:03.666315Z"
    }
   },
   "outputs": [
    {
     "data": {
      "image/png": "[encoded data removed]",
      "text/plain": [
       "<Figure size 703.1x216 with 3 Axes>"
      ]
     },
     "metadata": {},
     "output_type": "display_data"
    }
   ],
   "source": [
    "kda_cols = ['kills', 'deaths', 'assists', 'TI']\n",
    "kda = match_players[kda_cols]\n",
    "kda_melt = kda.melt(['TI'], var_name='variables', value_name='values')\n",
    "\n",
    "sns.set()\n",
    "k = sns.FacetGrid(kda_melt, col=\"variables\", hue=\"TI\", palette=\"Set1\")\n",
    "k = (k.map(sns.distplot, \"values\", hist=False))\n",
    "k.add_legend()\n",
    "plt.show()"
   ]
  },
  {
   "cell_type": "code",
   "execution_count": 52,
   "metadata": {
    "ExecuteTime": {
     "end_time": "2020-08-04T06:34:05.863568Z",
     "start_time": "2020-08-04T06:34:05.385285Z"
    }
   },
   "outputs": [
    {
     "data": {
      "image/png": "[encoded data removed]",
      "text/plain": [
       "<Figure size 720x360 with 2 Axes>"
      ]
     },
     "metadata": {},
     "output_type": "display_data"
    }
   ],
   "source": [
    "fig, ax = plt.subplots(nrows=1, ncols=2, sharey=True, figsize=(10, 5))\n",
    "cols = ['last_hits', 'denies']\n",
    "for index, col in enumerate(cols):\n",
    "    _ = sns.violinplot(x='TI', y=col, data=match_players, ax=ax[index])\n",
    "plt.show()"
   ]
  },
  {
   "cell_type": "markdown",
   "metadata": {},
   "source": [
    "#### Section Insights\n",
    "* Most endgame stats, specifically gpm, xpm, kills, deaths, and assists **resemble a Poisson distribution** from visual inspection. We can observe that the distributions are generally skewed to the right. Thus, we can consider high values for these end-of-game stats as **rare events**. This is primarily explained by the fact that in TI, a team can \"tap-out\" of a game by calling  \"good game, well played\".\n",
    "\n",
    "* Additionally, Poisson distribution of stats are also **due to players taking clearly defined roles in a team strategy** where most roles function as support heroes (characterized by lower stats to favor snowballing of the fewer in proportion carry-heroes (usually 1 or 2 per team). Therefore high--also known in the Philippine gaming linggo as **\"IMBA\"--stats are significantly outnumbered by support hero stats** in our data set since we included the stats of all five player roles per team per match.\n",
    "\n",
    "* **Talent Trees Patch.** Apart from the rare IMBA stats, we observed a **slight shift to the right of the TI 7 and 8 stats distributions**. One of the major updates that sets apart the TI 7 and 8 patch from the rest is the addition of Hero Talent Trees. Talent trees are additional buffs in skills and stats which are hero specific. For the majority support heroes, it is common to see **talents such as bonus gold or experience per minute** which results to the mentioned rightward shift in the mean of the distribution of XPM and GPM. <sup><a href=\"https://www.dota2.com/700/gameplay/\">[4]</a></sup>\n",
    "\n",
    "* Valve also intentionally **increased the experience gain from the laning stages** (e.g. from last hits and neutral camps) to attract focus in leveling up of heroes in-game. Again, this supports the rightward shift earlier mentioned. A possible explanation to this is **the regard for Dota 2 as one of those games with a high barrier of entry**, characterized by a patience-demanding laning and farming stage for game newbies."
   ]
  },
  {
   "cell_type": "markdown",
   "metadata": {},
   "source": [
    "#### 2. Testing TI8's End-game Stats Difference with Null Hypothesis Significance Testing\n",
    "\n",
    "While eyeballing the end-game stats distribution (KDE) plots of the different TIs may give an idea how they compare with each other, the above plots do not tell the statistical significance of the differences or similarities.\n",
    "\n",
    "One of the differences shown from the above plots is how TI8 had a slightly more spread out distribution of end-game experience and gold per minute results. To verify if the observed difference is indeed statistically significant, we conducted a Null Hypothesis Significance Testing (NHST) on the mean differences of end-game stats available from the Steam API.\n",
    "\n",
    "In the NHST below, we calculated for the probability of observing mean differences in end-game stats that is equal or greater than the actual mean differences observed from the pairwise comparison of TI8 with the other TIs.\n",
    "\n",
    "To do so we defined our hypothesis as follows:\n",
    "\n",
    "**Hypothesis (Null):** All of the TI's end-game per player stats, specifically  experience per minute(xpm), gold per minute gpm), kills (K), deaths (D), assists (A), last-hits, and denies, are identically distributed with TI8's end-game per player stats.\n",
    "\n",
    "**Test statistic:** Mean difference of each end-of-game stat.\n",
    "\n",
    "#### Defining the functions used\n",
    "\n",
    "The following are the functions used to perform the NHST. Definitions of each function are indicated in the contained docstrings"
   ]
  },
  {
   "cell_type": "code",
   "execution_count": 53,
   "metadata": {
    "ExecuteTime": {
     "end_time": "2020-08-03T19:50:53.610806Z",
     "start_time": "2020-08-03T19:50:53.488406Z"
    }
   },
   "outputs": [],
   "source": [
    "def bootstrap_replicate_1d(data, func):\n",
    "    \"\"\"Generate bootstrap replicate of 1D data.\"\"\"\n",
    "    bs_sample = np.random.choice(data, len(data))\n",
    "    return func(bs_sample)\n",
    "\n",
    "def draw_bs_reps(data, func, size=1):\n",
    "    \"\"\"Draw bootstrap replicates.\"\"\"\n",
    "\n",
    "    # Initialize array of replicates: bs_replicates\n",
    "    bs_replicates = np.empty(size)\n",
    "\n",
    "    # Generate replicates\n",
    "    for i in range(size):\n",
    "        bs_replicates[i] = bootstrap_replicate_1d(data, func)\n",
    "\n",
    "    return bs_replicates\n",
    "\n",
    "def permutation_sample(data1, data2):\n",
    "    \"\"\"Generate a permutation sample from two data sets.\"\"\"\n",
    "\n",
    "    # Concatenate the data sets: data\n",
    "    data = np.concatenate((data1, data2))\n",
    "\n",
    "    # Permute the concatenated array: permuted_data\n",
    "    permuted_data = np.random.permutation(data)\n",
    "\n",
    "    # Split the permuted array into two: perm_sample_1, perm_sample_2\n",
    "    perm_sample_1 = permuted_data[0:len(data1)]\n",
    "    perm_sample_2 = permuted_data[len(data1):]\n",
    "\n",
    "    return perm_sample_1, perm_sample_2\n",
    "\n",
    "def draw_perm_reps(data_1, data_2, func, size=1):\n",
    "    \"\"\"Generate multiple permutation replicates.\"\"\"\n",
    "\n",
    "    # Initialize array of replicates: perm_replicates\n",
    "    perm_replicates = np.empty(size)\n",
    "\n",
    "    for i in range(size):\n",
    "        # Generate permutation sample\n",
    "        perm_sample_1, perm_sample_2 = permutation_sample(data_1, data_2)\n",
    "\n",
    "        # Compute the test statistic\n",
    "        perm_replicates[i] = func(perm_sample_1, perm_sample_2)\n",
    "\n",
    "    return perm_replicates"
   ]
  },
  {
   "cell_type": "markdown",
   "metadata": {
    "ExecuteTime": {
     "end_time": "2020-08-03T19:51:09.083827Z",
     "start_time": "2020-08-03T19:51:09.073468Z"
    }
   },
   "source": [
    "#### Null Hypothesis Significance Testing (NHST)\n",
    "Permutation replicates of the test statistic (mean difference) was done 10,000 times for a reliable simulation of the actual data.\n",
    "\n",
    "The resulting mean differences and the corresponding probability (expressed in p-value) are shown in the dataframe that follows.\n",
    "\n",
    "*Note:*<br>\n",
    "* *test statistic is suffixed in the columns with \"_mean_diff\"* <br>\n",
    "* *P-value is suffixed in the columns with \"_pvalue\"* "
   ]
  },
  {
   "cell_type": "code",
   "execution_count": 54,
   "metadata": {
    "ExecuteTime": {
     "end_time": "2020-08-03T19:52:17.210647Z",
     "start_time": "2020-08-03T19:51:38.418256Z"
    }
   },
   "outputs": [
    {
     "name": "stderr",
     "output_type": "stream",
     "text": [
      "100%|████████████████████████████████████████████████████████████████████████████████████| 7/7 [00:44<00:00,  6.36s/it]\n"
     ]
    },
    {
     "data": {
      "text/html": [
       "<div>\n",
       "<style scoped>\n",
       "    .dataframe tbody tr th:only-of-type {\n",
       "        vertical-align: middle;\n",
       "    }\n",
       "\n",
       "    .dataframe tbody tr th {\n",
       "        vertical-align: top;\n",
       "    }\n",
       "\n",
       "    .dataframe thead th {\n",
       "        text-align: right;\n",
       "    }\n",
       "</style>\n",
       "<table border=\"1\" class=\"dataframe\">\n",
       "  <thead>\n",
       "    <tr style=\"text-align: right;\">\n",
       "      <th></th>\n",
       "      <th>xpm_mean_diff</th>\n",
       "      <th>xpm_pvalue</th>\n",
       "      <th>gpm_mean_diff</th>\n",
       "      <th>gpm_pvalue</th>\n",
       "      <th>K_mean_diff</th>\n",
       "      <th>K_pvalue</th>\n",
       "      <th>D_mean_diff</th>\n",
       "      <th>D_pvalue</th>\n",
       "      <th>A_mean_diff</th>\n",
       "      <th>A_pvalue</th>\n",
       "      <th>last_hit_mean_diff</th>\n",
       "      <th>last_hit_pvalue</th>\n",
       "      <th>deny_mean_diff</th>\n",
       "      <th>deny_pvalue</th>\n",
       "    </tr>\n",
       "  </thead>\n",
       "  <tbody>\n",
       "    <tr>\n",
       "      <th>TI_4</th>\n",
       "      <td>102.91</td>\n",
       "      <td>0.0000</td>\n",
       "      <td>53.56</td>\n",
       "      <td>0.0000</td>\n",
       "      <td>1.55</td>\n",
       "      <td>0.0000</td>\n",
       "      <td>1.56</td>\n",
       "      <td>0.0000</td>\n",
       "      <td>3.82</td>\n",
       "      <td>0.0000</td>\n",
       "      <td>55.73</td>\n",
       "      <td>0.0000</td>\n",
       "      <td>1.45</td>\n",
       "      <td>0.0000</td>\n",
       "    </tr>\n",
       "    <tr>\n",
       "      <th>TI_5</th>\n",
       "      <td>80.07</td>\n",
       "      <td>0.0000</td>\n",
       "      <td>38.90</td>\n",
       "      <td>0.0000</td>\n",
       "      <td>1.01</td>\n",
       "      <td>0.0000</td>\n",
       "      <td>0.96</td>\n",
       "      <td>0.0000</td>\n",
       "      <td>3.10</td>\n",
       "      <td>0.0000</td>\n",
       "      <td>17.62</td>\n",
       "      <td>0.0001</td>\n",
       "      <td>1.12</td>\n",
       "      <td>0.0000</td>\n",
       "    </tr>\n",
       "    <tr>\n",
       "      <th>TI_6</th>\n",
       "      <td>79.51</td>\n",
       "      <td>0.0000</td>\n",
       "      <td>16.05</td>\n",
       "      <td>0.0003</td>\n",
       "      <td>1.14</td>\n",
       "      <td>0.0000</td>\n",
       "      <td>1.09</td>\n",
       "      <td>0.0000</td>\n",
       "      <td>1.41</td>\n",
       "      <td>0.0000</td>\n",
       "      <td>9.36</td>\n",
       "      <td>0.0214</td>\n",
       "      <td>2.74</td>\n",
       "      <td>0.0000</td>\n",
       "    </tr>\n",
       "    <tr>\n",
       "      <th>TI_7</th>\n",
       "      <td>35.76</td>\n",
       "      <td>0.0000</td>\n",
       "      <td>28.24</td>\n",
       "      <td>0.0000</td>\n",
       "      <td>0.83</td>\n",
       "      <td>0.0000</td>\n",
       "      <td>0.83</td>\n",
       "      <td>0.0000</td>\n",
       "      <td>1.09</td>\n",
       "      <td>0.0000</td>\n",
       "      <td>-0.62</td>\n",
       "      <td>0.4490</td>\n",
       "      <td>0.62</td>\n",
       "      <td>0.0072</td>\n",
       "    </tr>\n",
       "  </tbody>\n",
       "</table>\n",
       "</div>"
      ],
      "text/plain": [
       "     xpm_mean_diff xpm_pvalue gpm_mean_diff gpm_pvalue K_mean_diff K_pvalue  \\\n",
       "TI_4        102.91     0.0000         53.56     0.0000        1.55   0.0000   \n",
       "TI_5         80.07     0.0000         38.90     0.0000        1.01   0.0000   \n",
       "TI_6         79.51     0.0000         16.05     0.0003        1.14   0.0000   \n",
       "TI_7         35.76     0.0000         28.24     0.0000        0.83   0.0000   \n",
       "\n",
       "     D_mean_diff D_pvalue A_mean_diff A_pvalue last_hit_mean_diff  \\\n",
       "TI_4        1.56   0.0000        3.82   0.0000              55.73   \n",
       "TI_5        0.96   0.0000        3.10   0.0000              17.62   \n",
       "TI_6        1.09   0.0000        1.41   0.0000               9.36   \n",
       "TI_7        0.83   0.0000        1.09   0.0000              -0.62   \n",
       "\n",
       "     last_hit_pvalue deny_mean_diff deny_pvalue  \n",
       "TI_4          0.0000           1.45      0.0000  \n",
       "TI_5          0.0001           1.12      0.0000  \n",
       "TI_6          0.0214           2.74      0.0000  \n",
       "TI_7          0.4490           0.62      0.0072  "
      ]
     },
     "execution_count": 54,
     "metadata": {},
     "output_type": "execute_result"
    }
   ],
   "source": [
    "ti_list = [4.0, 5.0, 6.0, 7.0] # TIs to compare TI8 with\n",
    "\n",
    "def diff_of_means(data_1, data_2):\n",
    "    \"\"\"Difference in means of two arrays. Test statistic used\"\"\"\n",
    "\n",
    "    # The difference of means of data_1, data_2 (our test statistic)\n",
    "    diff = np.mean(data_1) - np.mean(data_2)\n",
    "\n",
    "    return diff\n",
    "\n",
    "nhst_df = pd.DataFrame(index=[f'TI_{int(ti)}' for ti in ti_list])\n",
    "\n",
    "var_list = ['xp_per_min', 'gold_per_min', 'kills', 'deaths', 'assists',\n",
    "            'last_hits', 'denies']\n",
    "col_list = ['xpm', 'gpm', 'K', 'D', 'A', 'last_hit', 'deny']\n",
    "i = 0\n",
    "for var in tqdm(var_list):\n",
    "    p_list = []\n",
    "    mean_diff = []\n",
    "    for ti in ti_list:\n",
    "        data_1 = match_players.loc[match_players.TI==8.0, var]\n",
    "        data_2 = match_players.loc[match_players.TI==ti, var]\n",
    "\n",
    "        # Compute difference of means\n",
    "        empirical_diff_means = diff_of_means(data_1, data_2)\n",
    "\n",
    "        # Draw 10,000 permutation replicates\n",
    "        perm_replicates = draw_perm_reps(data_1, data_2,\n",
    "                                         diff_of_means, size=10_000)\n",
    "\n",
    "        # Compute p-value: p\n",
    "        if empirical_diff_means < 0:\n",
    "            p = np.sum(perm_replicates <= empirical_diff_means) / len(perm_replicates)\n",
    "        else:\n",
    "            p = np.sum(perm_replicates >= empirical_diff_means) / len(perm_replicates)\n",
    "        p_list.append('{:.4f}'.format(p))\n",
    "        mean_diff.append('{:.2f}'.format(empirical_diff_means))\n",
    "    nhst_df[col_list[i] +'_mean_diff'] = mean_diff\n",
    "    nhst_df[col_list[i] +'_pvalue'] = p_list\n",
    "    i += 1\n",
    "\n",
    "nhst_df"
   ]
  },
  {
   "cell_type": "markdown",
   "metadata": {},
   "source": [
    "#### Section Insights\n",
    "\n",
    "* From the resulting in the dataframe above, we can observe that under the null hypothesis ONLY the the mean difference in \"last_hit\" stats between TI7 and TI8 is shown to be statistically significant at a 95% confidence interval. Statistically, the mean differences in end-game stats from TI4 to TI8 are generally insignificant given by the results. This **TI7 last_hit pvalue of 0.4419** may be attributed to **IMBA outliers** such as that of the 1970 last hits in a game by `Resolut1on` in their game against `IG.V`. <sup><a href=\"https://www.youtube.com/watch?v=h1JVcX9DSaQ\">[5]</a></sup>\n",
    "\n",
    "\n",
    "* The insignificance of differences in end-of-game stats of TI8 shows that meta changes due to Dota 2 `patches` cannot easily be captured by end-of-game statistics. It shows that **Dota 2 has not change drastically** since it's 2011 release as far as end-of-game statistics is concerned."
   ]
  },
  {
   "cell_type": "markdown",
   "metadata": {},
   "source": [
    "## VI. Conclusion and Recommendations\n",
    "\n",
    "End-of-game stats made it possible for us to predict match outcomes and surface the top predictors to these outcomes. We also observed from our data the trends in hero selection according to the primary attribute. However, we recommend that a thorough analysis be done on a possible time-series data set with more specific information about what happened throughout a match with the corresponding timestamp. An investigation in this direction allows one to see in-game stats progression and team strategies and play style."
   ]
  },
  {
   "cell_type": "markdown",
   "metadata": {},
   "source": [
    "## References \n",
    "\n",
    "\n",
    "[1]  2018. Opinion — it’s time for Dota 2 to lower the barrier to entry. [Blog] Available at: <https://www.joindota.com/en/news/78006-opinion-its-time-for-dota-2-to-lower-the-barrier-to-entry> [Accessed August 2020].\n",
    "\n",
    "[2] Statista. 2020. Number Of Games Released On Steam 2019 | Statista. [online] Available at: <https://www.statista.com/statistics/552623/number-games-released-steam/> [Accessed 1 August 2020].\n",
    "\n",
    "[3] Steamcommunity.com. 2020. Steam Community :: Steam Web API Documentation. [online] Available at: <https://steamcommunity.com/dev> [Accessed 1 August 2020].\n",
    "\n",
    "[4] Dota2.com. 2020. Dota 2 - 7.00 - New Gameplay. [online] Available at: <https://www.dota2.com/700/gameplay> [Accessed 1 August 2020].\n",
    "\n",
    "[5] 2020. [online] Available at: <https://www.youtube.com/watch?v=h1JVcX9DSaQ> [Accessed 1 August 2020]."
   ]
  },
  {
   "cell_type": "markdown",
   "metadata": {},
   "source": [
    "## Appendix"
   ]
  },
  {
   "cell_type": "markdown",
   "metadata": {},
   "source": [
    "Our team created a module `dota.py` in collecting the data from Steam API.\n",
    "\n",
    "The Steam API endpoints used are the following:\n",
    "\n",
    "    BASE_API_URL = 'http://api.steampowered.com/'\n",
    "    LEAGUES = 'IDOTA2Match_205790/GetLeagueListing/v1/'\n",
    "    MATCH_HISTORY = 'IDOTA2Match_570/GetMatchHistory/v1/'\n",
    "    MATCH_DETAILS = 'IDOTA2Match_570/GetMatchDetails/v1/'\n",
    "    HEROES_DETAILS = 'IEconDOTA2_570/GetHeroes/v1/'\n",
    "    ITEMS_DETAILS = 'IEconDOTA2_570/GetGameItems/v1/'\n",
    "    \n",
    "    \n",
    "Our team scraped hero and item images from:\n",
    "\n",
    "    heroes: https://dota2.gamepedia.com/Heroes\n",
    "    items: https://dota2.gamepedia.com/Items"
   ]
  },
  {
   "cell_type": "code",
   "execution_count": 55,
   "metadata": {},
   "outputs": [
    {
     "name": "stderr",
     "output_type": "stream",
     "text": [
      "[NbConvertApp] Converting notebook DOTA Science.ipynb to html\n",
      "[NbConvertApp] Writing 552773 bytes to DOTA Science.html\n"
     ]
    }
   ],
   "source": [
    "# create HTML version of this notebook\n",
    "!jupyter nbconvert \"DOTA Science.ipynb\" --no-prompt"
   ]
  },
  {
   "cell_type": "code",
   "execution_count": null,
   "metadata": {},
   "outputs": [],
   "source": []
  }
 ],
 "metadata": {
  "hide_input": false,
  "kernelspec": {
   "display_name": "Python 3",
   "language": "python",
   "name": "python3"
  },
  "language_info": {
   "codemirror_mode": {
    "name": "ipython",
    "version": 3
   },
   "file_extension": ".py",
   "mimetype": "text/x-python",
   "name": "python",
   "nbconvert_exporter": "python",
   "pygments_lexer": "ipython3",
   "version": "3.7.6"
  },
  "latex_envs": {
   "LaTeX_envs_menu_present": true,
   "autoclose": false,
   "autocomplete": true,
   "bibliofile": "biblio.bib",
   "cite_by": "apalike",
   "current_citInitial": 1,
   "eqLabelWithNumbers": true,
   "eqNumInitial": 1,
   "hotkeys": {
    "equation": "Ctrl-E",
    "itemize": "Ctrl-I"
   },
   "labels_anchors": false,
   "latex_user_defs": false,
   "report_style_numbering": false,
   "user_envs_cfg": false
  }
 },
 "nbformat": 4,
 "nbformat_minor": 4
}
